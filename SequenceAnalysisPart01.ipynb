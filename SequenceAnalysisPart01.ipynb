{
 "cells": [
  {
   "attachments": {},
   "cell_type": "markdown",
   "id": "36ba9a1c",
   "metadata": {
    "toc": true
   },
   "source": [
    "<h1><span>Sequence Analysis Part 1 (Basics)</span></h1>"
   ]
  },
  {
   "attachments": {},
   "cell_type": "markdown",
   "id": "a23a9b9e",
   "metadata": {},
   "source": [
    "This \"Part 1\" is a collection of Python-based example codes focussing on sequence analysis on a very basic level (see <a name=\"TOC\">TOC</a>). It is motivated by the many jobs descriptions currently online for genome analysis, next-gen-sequencing (NGS) advances and my fascination towards life science in general. Check out my website (www.bio-century.net) for demos, literature recommendations, links to data bases and further inspirations. Apologies for the code often being a little sloppy and \"easy-going\". Due to a limited time frame, priorities were set to \"progress & visualization\" instead of \"finding the most efficient solution\" :) <br>\n",
    "Whenever a function or method is developed to fulfill the goals, it is outsources into the subfolder \"Part01\", take a look and have fun."
   ]
  },
  {
   "attachments": {},
   "cell_type": "markdown",
   "id": "133091f0",
   "metadata": {},
   "source": [
    "# Table of Contents\n",
    "0. [Reference Table](#ReferenceTable)\n",
    "1. [First Steps in Sequence Analysis (Groundwork)](#FirstStepsInSequenceAnalysis)\n",
    "   1. [Color Strings in Terminal Output](#ColoringStrings)\n",
    "   2. [Computation of Complement, Reverse and Reverse Complement of ssDNA](#ComplRevRevComplssDNA)\n",
    "   3. [Identification of Sequences of Interest within a Target Sequence](#IdentOfSOIsInTargetSeq)\n",
    "   4. [Identification of Multiple Sequences of Interest within a Target Sequence](#IdentMultipleOfSOIsInTargetSeq)"
   ]
  },
  {
   "attachments": {},
   "cell_type": "markdown",
   "id": "12fed6e0",
   "metadata": {},
   "source": [
    "# 0. <a name=\"ReferenceTable\"> Reference Table</a>"
   ]
  },
  {
   "attachments": {},
   "cell_type": "markdown",
   "id": "2fb005be",
   "metadata": {},
   "source": [
    "| Tag or Variable | Meaning              |\n",
    "|-----------------|----------------------|\n",
    "| mySequence      | Target Sequence      |\n",
    "| mySOI           | Sequence of Interest |\n",
    "| ssDNA           | single-stranded DNA  |"
   ]
  },
  {
   "attachments": {},
   "cell_type": "markdown",
   "id": "642f1dfa",
   "metadata": {},
   "source": [
    "# 1. <a name=\"FirstStepsInSequenceAnalysis\"> First Steps in Sequence Analysis (Groundwork)</a>"
   ]
  },
  {
   "attachments": {},
   "cell_type": "markdown",
   "id": "4bea308d",
   "metadata": {},
   "source": [
    "## 1.1 <a name=\"ColoringStrings\">Color Strings in Terminal Output</a>"
   ]
  },
  {
   "attachments": {},
   "cell_type": "markdown",
   "id": "78383cfe",
   "metadata": {},
   "source": [
    "Goal:\n",
    "1. Load a target DNA-sequence (\"mySequence\") from external file\n",
    "2. split the DNA at first incidence of a dedicated subpart (\"mySOI\") and\n",
    "3. colorprint a for visualization purposes."
   ]
  },
  {
   "cell_type": "code",
   "execution_count": 1,
   "id": "72466eed",
   "metadata": {},
   "outputs": [
    {
     "name": "stdout",
     "output_type": "stream",
     "text": [
      "ctgggactctagctgatccacccgcctagggcagcacacataggacgtagct\u001b[32mCGCCAAAAA\u001b[39m\n",
      "                                                    \u001b[94mCGCCAAAAA\u001b[39mgccaaaaagacgaacccaccatgcccagacgcatctggctaagctc"
     ]
    }
   ],
   "source": [
    "# sources\n",
    "# - https://www.bioinformatics.org/sms2/random_dna.html\n",
    "# - https://pkg.go.dev/github.com/whitedevops/colors\n",
    "\n",
    "# include packages\n",
    "from ExternalPackages.TerminalColors import TerminalColors\n",
    "\n",
    "mySOI=\"CGCCAAAAA\"\n",
    "\n",
    "# load file line-by-line\n",
    "with open('./Part01Data/01_01_SeqOfInterest.txt') as f:\n",
    "    myLines = f.readlines()\n",
    "\n",
    "# find mySO, split and color it\n",
    "for ii, mySequence in enumerate(myLines):\n",
    "    SOI_POS = mySequence.upper().rfind(mySOI)\n",
    "    print(mySequence[:SOI_POS - 1]\n",
    "          + f\"{TerminalColors.Green}\"\n",
    "          + mySequence[SOI_POS:SOI_POS + len(mySOI)].upper()\n",
    "          + f\"{TerminalColors.Default}\", end = '\\n')\n",
    "    print(\" \"*(SOI_POS - 1)\n",
    "          + f\"{TerminalColors.LightBlue}\"\n",
    "          + mySequence[SOI_POS:SOI_POS + len(mySOI)].upper()\n",
    "          + f\"{TerminalColors.Default}\" + mySequence[SOI_POS + 1:], end = '')"
   ]
  },
  {
   "attachments": {},
   "cell_type": "markdown",
   "id": "22b78482",
   "metadata": {},
   "source": [
    "## 1.2 <a name=\"ComplRevRevComplssDNA\">Computation of Complement, Reverse and Reverse Complement of ssDNA</a>"
   ]
  },
  {
   "attachments": {},
   "cell_type": "markdown",
   "id": "6456ba79",
   "metadata": {},
   "source": [
    "Goal: <br>\n",
    "To determine all modalities of a DNA-single-strand sequence, i.e.\n",
    "1. the complement-,\n",
    "2. the reverse- as well as\n",
    "3. the reverse-complement-strand\n",
    "\n",
    "and visualize them."
   ]
  },
  {
   "cell_type": "code",
   "execution_count": 2,
   "id": "cf46ffed",
   "metadata": {},
   "outputs": [
    {
     "name": "stdout",
     "output_type": "stream",
     "text": [
      "Sequence: \t \t \t \u001b[33mC\u001b[39m\u001b[35mT\u001b[39m\u001b[34mG\u001b[39m\u001b[34mG\u001b[39m\u001b[34mG\u001b[39m\u001b[32mA\u001b[39m\u001b[33mC\u001b[39m\u001b[35mT\u001b[39m\u001b[33mC\u001b[39m\u001b[35mT\u001b[39m\u001b[32mA\u001b[39m\u001b[34mG\u001b[39m\u001b[33mC\u001b[39m\u001b[35mT\u001b[39m\u001b[34mG\u001b[39m\u001b[32mA\u001b[39m\u001b[35mT\u001b[39m\u001b[33mC\u001b[39m\u001b[33mC\u001b[39m\u001b[32mA\u001b[39m\u001b[33mC\u001b[39m\u001b[33mC\u001b[39m\u001b[33mC\u001b[39m\u001b[34mG\u001b[39m\u001b[33mC\u001b[39m\u001b[33mC\u001b[39m\u001b[35mT\u001b[39m\u001b[32mA\u001b[39m\u001b[34mG\u001b[39m\u001b[34mG\u001b[39m\u001b[34mG\u001b[39m\u001b[33mC\u001b[39m\u001b[32mA\u001b[39m\u001b[34mG\u001b[39m\u001b[33mC\u001b[39m\u001b[32mA\u001b[39m\u001b[33mC\u001b[39m\u001b[32mA\u001b[39m\u001b[33mC\u001b[39m\u001b[32mA\u001b[39m\u001b[35mT\u001b[39m\u001b[32mA\u001b[39m\u001b[34mG\u001b[39m\u001b[34mG\u001b[39m\u001b[32mA\u001b[39m\u001b[33mC\u001b[39m\u001b[34mG\u001b[39m\u001b[35mT\u001b[39m\u001b[32mA\u001b[39m\u001b[34mG\u001b[39m\u001b[33mC\u001b[39m\u001b[35mT\u001b[39m\u001b[34mG\u001b[39m\u001b[33mC\u001b[39m\u001b[34mG\u001b[39m\u001b[33mC\u001b[39m\u001b[33mC\u001b[39m\u001b[32mA\u001b[39m\u001b[32mA\u001b[39m\u001b[32mA\u001b[39m\u001b[32mA\u001b[39m\u001b[32mA\u001b[39m\u001b[34mG\u001b[39m\u001b[32mA\u001b[39m\u001b[33mC\u001b[39m\u001b[34mG\u001b[39m\u001b[32mA\u001b[39m\u001b[32mA\u001b[39m\u001b[33mC\u001b[39m\u001b[33mC\u001b[39m\u001b[33mC\u001b[39m\u001b[32mA\u001b[39m\u001b[33mC\u001b[39m\u001b[33mC\u001b[39m\u001b[32mA\u001b[39m\u001b[35mT\u001b[39m\u001b[34mG\u001b[39m\u001b[33mC\u001b[39m\u001b[33mC\u001b[39m\u001b[33mC\u001b[39m\u001b[32mA\u001b[39m\u001b[34mG\u001b[39m\u001b[32mA\u001b[39m\u001b[33mC\u001b[39m\u001b[34mG\u001b[39m\u001b[33mC\u001b[39m\u001b[32mA\u001b[39m\u001b[35mT\u001b[39m\u001b[33mC\u001b[39m\u001b[35mT\u001b[39m\u001b[34mG\u001b[39m\u001b[34mG\u001b[39m\u001b[33mC\u001b[39m\u001b[35mT\u001b[39m\u001b[32mA\u001b[39m\u001b[32mA\u001b[39m\u001b[34mG\u001b[39m\u001b[33mC\u001b[39m\u001b[35mT\u001b[39m\u001b[33mC\u001b[39m\n",
      "\t \t \t \t ||||||||||||||||||||||||||||||||||||||||||||||||||||||||||||||||||||||||||||||||||||||||||||||||||||\n",
      "Complement: \t \t \t \u001b[34mG\u001b[39m\u001b[32mA\u001b[39m\u001b[33mC\u001b[39m\u001b[33mC\u001b[39m\u001b[33mC\u001b[39m\u001b[35mT\u001b[39m\u001b[34mG\u001b[39m\u001b[32mA\u001b[39m\u001b[34mG\u001b[39m\u001b[32mA\u001b[39m\u001b[35mT\u001b[39m\u001b[33mC\u001b[39m\u001b[34mG\u001b[39m\u001b[32mA\u001b[39m\u001b[33mC\u001b[39m\u001b[35mT\u001b[39m\u001b[32mA\u001b[39m\u001b[34mG\u001b[39m\u001b[34mG\u001b[39m\u001b[35mT\u001b[39m\u001b[34mG\u001b[39m\u001b[34mG\u001b[39m\u001b[34mG\u001b[39m\u001b[33mC\u001b[39m\u001b[34mG\u001b[39m\u001b[34mG\u001b[39m\u001b[32mA\u001b[39m\u001b[35mT\u001b[39m\u001b[33mC\u001b[39m\u001b[33mC\u001b[39m\u001b[33mC\u001b[39m\u001b[34mG\u001b[39m\u001b[35mT\u001b[39m\u001b[33mC\u001b[39m\u001b[34mG\u001b[39m\u001b[35mT\u001b[39m\u001b[34mG\u001b[39m\u001b[35mT\u001b[39m\u001b[34mG\u001b[39m\u001b[35mT\u001b[39m\u001b[32mA\u001b[39m\u001b[35mT\u001b[39m\u001b[33mC\u001b[39m\u001b[33mC\u001b[39m\u001b[35mT\u001b[39m\u001b[34mG\u001b[39m\u001b[33mC\u001b[39m\u001b[32mA\u001b[39m\u001b[35mT\u001b[39m\u001b[33mC\u001b[39m\u001b[34mG\u001b[39m\u001b[32mA\u001b[39m\u001b[33mC\u001b[39m\u001b[34mG\u001b[39m\u001b[33mC\u001b[39m\u001b[34mG\u001b[39m\u001b[34mG\u001b[39m\u001b[35mT\u001b[39m\u001b[35mT\u001b[39m\u001b[35mT\u001b[39m\u001b[35mT\u001b[39m\u001b[35mT\u001b[39m\u001b[33mC\u001b[39m\u001b[35mT\u001b[39m\u001b[34mG\u001b[39m\u001b[33mC\u001b[39m\u001b[35mT\u001b[39m\u001b[35mT\u001b[39m\u001b[34mG\u001b[39m\u001b[34mG\u001b[39m\u001b[34mG\u001b[39m\u001b[35mT\u001b[39m\u001b[34mG\u001b[39m\u001b[34mG\u001b[39m\u001b[35mT\u001b[39m\u001b[32mA\u001b[39m\u001b[33mC\u001b[39m\u001b[34mG\u001b[39m\u001b[34mG\u001b[39m\u001b[34mG\u001b[39m\u001b[35mT\u001b[39m\u001b[33mC\u001b[39m\u001b[35mT\u001b[39m\u001b[34mG\u001b[39m\u001b[33mC\u001b[39m\u001b[34mG\u001b[39m\u001b[35mT\u001b[39m\u001b[32mA\u001b[39m\u001b[34mG\u001b[39m\u001b[32mA\u001b[39m\u001b[33mC\u001b[39m\u001b[33mC\u001b[39m\u001b[34mG\u001b[39m\u001b[32mA\u001b[39m\u001b[35mT\u001b[39m\u001b[35mT\u001b[39m\u001b[33mC\u001b[39m\u001b[34mG\u001b[39m\u001b[32mA\u001b[39m\u001b[34mG\u001b[39m\n",
      "\n",
      "Reverse: \t \t \t \u001b[33mC\u001b[39m\u001b[35mT\u001b[39m\u001b[33mC\u001b[39m\u001b[34mG\u001b[39m\u001b[32mA\u001b[39m\u001b[32mA\u001b[39m\u001b[35mT\u001b[39m\u001b[33mC\u001b[39m\u001b[34mG\u001b[39m\u001b[34mG\u001b[39m\u001b[35mT\u001b[39m\u001b[33mC\u001b[39m\u001b[35mT\u001b[39m\u001b[32mA\u001b[39m\u001b[33mC\u001b[39m\u001b[34mG\u001b[39m\u001b[33mC\u001b[39m\u001b[32mA\u001b[39m\u001b[34mG\u001b[39m\u001b[32mA\u001b[39m\u001b[33mC\u001b[39m\u001b[33mC\u001b[39m\u001b[33mC\u001b[39m\u001b[34mG\u001b[39m\u001b[35mT\u001b[39m\u001b[32mA\u001b[39m\u001b[33mC\u001b[39m\u001b[33mC\u001b[39m\u001b[32mA\u001b[39m\u001b[33mC\u001b[39m\u001b[33mC\u001b[39m\u001b[33mC\u001b[39m\u001b[32mA\u001b[39m\u001b[32mA\u001b[39m\u001b[34mG\u001b[39m\u001b[33mC\u001b[39m\u001b[32mA\u001b[39m\u001b[34mG\u001b[39m\u001b[32mA\u001b[39m\u001b[32mA\u001b[39m\u001b[32mA\u001b[39m\u001b[32mA\u001b[39m\u001b[32mA\u001b[39m\u001b[33mC\u001b[39m\u001b[33mC\u001b[39m\u001b[34mG\u001b[39m\u001b[33mC\u001b[39m\u001b[34mG\u001b[39m\u001b[35mT\u001b[39m\u001b[33mC\u001b[39m\u001b[34mG\u001b[39m\u001b[32mA\u001b[39m\u001b[35mT\u001b[39m\u001b[34mG\u001b[39m\u001b[33mC\u001b[39m\u001b[32mA\u001b[39m\u001b[34mG\u001b[39m\u001b[34mG\u001b[39m\u001b[32mA\u001b[39m\u001b[35mT\u001b[39m\u001b[32mA\u001b[39m\u001b[33mC\u001b[39m\u001b[32mA\u001b[39m\u001b[33mC\u001b[39m\u001b[32mA\u001b[39m\u001b[33mC\u001b[39m\u001b[34mG\u001b[39m\u001b[32mA\u001b[39m\u001b[33mC\u001b[39m\u001b[34mG\u001b[39m\u001b[34mG\u001b[39m\u001b[34mG\u001b[39m\u001b[32mA\u001b[39m\u001b[35mT\u001b[39m\u001b[33mC\u001b[39m\u001b[33mC\u001b[39m\u001b[34mG\u001b[39m\u001b[33mC\u001b[39m\u001b[33mC\u001b[39m\u001b[33mC\u001b[39m\u001b[32mA\u001b[39m\u001b[33mC\u001b[39m\u001b[33mC\u001b[39m\u001b[35mT\u001b[39m\u001b[32mA\u001b[39m\u001b[34mG\u001b[39m\u001b[35mT\u001b[39m\u001b[33mC\u001b[39m\u001b[34mG\u001b[39m\u001b[32mA\u001b[39m\u001b[35mT\u001b[39m\u001b[33mC\u001b[39m\u001b[35mT\u001b[39m\u001b[33mC\u001b[39m\u001b[32mA\u001b[39m\u001b[34mG\u001b[39m\u001b[34mG\u001b[39m\u001b[34mG\u001b[39m\u001b[35mT\u001b[39m\u001b[33mC\u001b[39m\n",
      "\t \t \t \t ||||||||||||||||||||||||||||||||||||||||||||||||||||||||||||||||||||||||||||||||||||||||||||||||||||\n",
      "Reverse Complement: \t \t \u001b[34mG\u001b[39m\u001b[32mA\u001b[39m\u001b[34mG\u001b[39m\u001b[33mC\u001b[39m\u001b[35mT\u001b[39m\u001b[35mT\u001b[39m\u001b[32mA\u001b[39m\u001b[34mG\u001b[39m\u001b[33mC\u001b[39m\u001b[33mC\u001b[39m\u001b[32mA\u001b[39m\u001b[34mG\u001b[39m\u001b[32mA\u001b[39m\u001b[35mT\u001b[39m\u001b[34mG\u001b[39m\u001b[33mC\u001b[39m\u001b[34mG\u001b[39m\u001b[35mT\u001b[39m\u001b[33mC\u001b[39m\u001b[35mT\u001b[39m\u001b[34mG\u001b[39m\u001b[34mG\u001b[39m\u001b[34mG\u001b[39m\u001b[33mC\u001b[39m\u001b[32mA\u001b[39m\u001b[35mT\u001b[39m\u001b[34mG\u001b[39m\u001b[34mG\u001b[39m\u001b[35mT\u001b[39m\u001b[34mG\u001b[39m\u001b[34mG\u001b[39m\u001b[34mG\u001b[39m\u001b[35mT\u001b[39m\u001b[35mT\u001b[39m\u001b[33mC\u001b[39m\u001b[34mG\u001b[39m\u001b[35mT\u001b[39m\u001b[33mC\u001b[39m\u001b[35mT\u001b[39m\u001b[35mT\u001b[39m\u001b[35mT\u001b[39m\u001b[35mT\u001b[39m\u001b[35mT\u001b[39m\u001b[34mG\u001b[39m\u001b[34mG\u001b[39m\u001b[33mC\u001b[39m\u001b[34mG\u001b[39m\u001b[33mC\u001b[39m\u001b[32mA\u001b[39m\u001b[34mG\u001b[39m\u001b[33mC\u001b[39m\u001b[35mT\u001b[39m\u001b[32mA\u001b[39m\u001b[33mC\u001b[39m\u001b[34mG\u001b[39m\u001b[35mT\u001b[39m\u001b[33mC\u001b[39m\u001b[33mC\u001b[39m\u001b[35mT\u001b[39m\u001b[32mA\u001b[39m\u001b[35mT\u001b[39m\u001b[34mG\u001b[39m\u001b[35mT\u001b[39m\u001b[34mG\u001b[39m\u001b[35mT\u001b[39m\u001b[34mG\u001b[39m\u001b[33mC\u001b[39m\u001b[35mT\u001b[39m\u001b[34mG\u001b[39m\u001b[33mC\u001b[39m\u001b[33mC\u001b[39m\u001b[33mC\u001b[39m\u001b[35mT\u001b[39m\u001b[32mA\u001b[39m\u001b[34mG\u001b[39m\u001b[34mG\u001b[39m\u001b[33mC\u001b[39m\u001b[34mG\u001b[39m\u001b[34mG\u001b[39m\u001b[34mG\u001b[39m\u001b[35mT\u001b[39m\u001b[34mG\u001b[39m\u001b[34mG\u001b[39m\u001b[32mA\u001b[39m\u001b[35mT\u001b[39m\u001b[33mC\u001b[39m\u001b[32mA\u001b[39m\u001b[34mG\u001b[39m\u001b[33mC\u001b[39m\u001b[35mT\u001b[39m\u001b[32mA\u001b[39m\u001b[34mG\u001b[39m\u001b[32mA\u001b[39m\u001b[34mG\u001b[39m\u001b[35mT\u001b[39m\u001b[33mC\u001b[39m\u001b[33mC\u001b[39m\u001b[33mC\u001b[39m\u001b[32mA\u001b[39m\u001b[34mG\u001b[39m\n"
     ]
    }
   ],
   "source": [
    "# sources\n",
    "# - https://www.bioinformatics.org/sms2/random_dna.html\n",
    "\n",
    "# include packages\n",
    "from tkinter import *\n",
    "from tkinter.ttk import *\n",
    "from ExternalPackages.TerminalColors import TerminalColors\n",
    "import Part01.A_Groundwork as Groundwork\n",
    "\n",
    "mySequenceInput      = \"ctgggactctagctgatccacccgcctagggcagcacacataggacgtagctgcgccaaaaagacgaacccaccatgcccagacgcatctggctaagctc\"\n",
    "mySequence           = mySequenceInput.upper()\n",
    "myNumberOfSOIs       = 3\n",
    "mySOI                = [\"\"] * myNumberOfSOIs\n",
    "myColors             = [\"\"] * myNumberOfSOIs\n",
    "mySequenceColored    = [\"\"] * myNumberOfSOIs\n",
    "myColorsDNA          = [TerminalColors.Green, TerminalColors.Yellow, TerminalColors.Blue, TerminalColors.Magenta]\n",
    "myDefaultColor       = TerminalColors.Default\n",
    "\n",
    "returnSeq = Groundwork.ComplRev(mySequence,\"Sequence\")\n",
    "mySequenceColoredDNA = Groundwork.ColorDNA(returnSeq, myColorsDNA, myDefaultColor)\n",
    "print(\"Sequence: \\t \\t \\t\", mySequenceColoredDNA, end = '\\n')\n",
    "print(\"\\t \\t \\t \\t\", ''.join('|' for i in returnSeq), end = '\\n')\n",
    "\n",
    "returnSeq = Groundwork.ComplRev(mySequence,\"SequenceComplement\")\n",
    "mySequenceColoredDNA = Groundwork.ColorDNA(returnSeq, myColorsDNA, myDefaultColor)\n",
    "print(\"Complement: \\t \\t \\t\", mySequenceColoredDNA, end = '\\n')\n",
    "print(\"\")\n",
    "\n",
    "returnSeq = Groundwork.ComplRev(mySequence,\"SequenceReverse\")\n",
    "mySequenceColoredDNA = Groundwork.ColorDNA(returnSeq, myColorsDNA, myDefaultColor)\n",
    "print(\"Reverse: \\t \\t \\t\", mySequenceColoredDNA, end = '\\n')\n",
    "print(\"\\t \\t \\t \\t\", ''.join('|' for i in returnSeq), end = '\\n')\n",
    "\n",
    "returnSeq = Groundwork.ComplRev(mySequence,\"SequenceReverseComplement\")\n",
    "mySequenceColoredDNA = Groundwork.ColorDNA(returnSeq, myColorsDNA, myDefaultColor)\n",
    "print(\"Reverse Complement: \\t \\t\", mySequenceColoredDNA, end = '\\n')"
   ]
  },
  {
   "attachments": {},
   "cell_type": "markdown",
   "id": "d75ca150",
   "metadata": {},
   "source": [
    "## 1.3 <a name=\"IdentOfSOIsInTargetSeq\">Identification Sequences of Interest within a Target Sequence</a>"
   ]
  },
  {
   "attachments": {},
   "cell_type": "markdown",
   "id": "43394bcd",
   "metadata": {},
   "source": [
    "Goal: To identify and mark the the position of a SOI (mySOI) in a given target sequence (mySequence). The return \"positionsSOI\" shall be\n",
    "1. 1 if the respective base at position ii of the sequence \"mySequence\" is part of mySOI\n",
    "2. \\>1 if two mySOI-regions overlap and\n",
    "3. 0 otherwise."
   ]
  },
  {
   "cell_type": "code",
   "execution_count": 3,
   "id": "b346d2bd",
   "metadata": {},
   "outputs": [
    {
     "name": "stdout",
     "output_type": "stream",
     "text": [
      "mySequence : \t \t\u001b[39mC\u001b[39m\u001b[39mT\u001b[39m\u001b[32mG\u001b[39m\u001b[32mG\u001b[39m\u001b[32mG\u001b[39m\u001b[39mA\u001b[39m\u001b[39mC\u001b[39m\u001b[39mT\u001b[39m\u001b[39mC\u001b[39m\u001b[39mT\u001b[39m\u001b[39mA\u001b[39m\u001b[39mG\u001b[39m\u001b[39mC\u001b[39m\u001b[39mT\u001b[39m\u001b[39mG\u001b[39m\u001b[39mA\u001b[39m\u001b[39mT\u001b[39m\u001b[39mC\u001b[39m\u001b[39mC\u001b[39m\u001b[39mA\u001b[39m\u001b[39mC\u001b[39m\u001b[39mC\u001b[39m\u001b[39mC\u001b[39m\u001b[39mG\u001b[39m\u001b[39mC\u001b[39m\u001b[39mC\u001b[39m\u001b[39mT\u001b[39m\u001b[39mA\u001b[39m\u001b[32mG\u001b[39m\u001b[32mG\u001b[39m\u001b[32mG\u001b[39m\u001b[39mC\u001b[39m\u001b[39mA\u001b[39m\u001b[39mG\u001b[39m\u001b[39mC\u001b[39m\u001b[39mA\u001b[39m\u001b[39mC\u001b[39m\u001b[39mA\u001b[39m\u001b[39mC\u001b[39m\u001b[39mA\u001b[39m\u001b[39mT\u001b[39m\u001b[39mA\u001b[39m\u001b[32mG\u001b[39m\u001b[32mG\u001b[39m\u001b[39mA\u001b[39m\u001b[39mC\u001b[39m\u001b[39mG\u001b[39m\u001b[39mT\u001b[39m\u001b[39mA\u001b[39m\u001b[39mG\u001b[39m\u001b[39mC\u001b[39m\u001b[39mT\u001b[39m\u001b[39mG\u001b[39m\u001b[39mC\u001b[39m\u001b[39mG\u001b[39m\u001b[39mC\u001b[39m\u001b[39mC\u001b[39m\u001b[39mA\u001b[39m\u001b[39mA\u001b[39m\u001b[39mA\u001b[39m\u001b[39mA\u001b[39m\u001b[39mA\u001b[39m\u001b[39mG\u001b[39m\u001b[39mA\u001b[39m\u001b[39mC\u001b[39m\u001b[39mG\u001b[39m\u001b[39mA\u001b[39m\u001b[39mA\u001b[39m\u001b[39mC\u001b[39m\u001b[39mC\u001b[39m\u001b[39mC\u001b[39m\u001b[39mA\u001b[39m\u001b[39mC\u001b[39m\u001b[39mC\u001b[39m\u001b[39mA\u001b[39m\u001b[39mT\u001b[39m\u001b[39mG\u001b[39m\u001b[39mC\u001b[39m\u001b[39mC\u001b[39m\u001b[39mC\u001b[39m\u001b[39mA\u001b[39m\u001b[39mG\u001b[39m\u001b[39mA\u001b[39m\u001b[39mC\u001b[39m\u001b[39mG\u001b[39m\u001b[39mC\u001b[39m\u001b[39mA\u001b[39m\u001b[39mT\u001b[39m\u001b[39mC\u001b[39m\u001b[39mT\u001b[39m\u001b[32mG\u001b[39m\u001b[32mG\u001b[39m\u001b[39mC\u001b[39m\u001b[39mT\u001b[39m\u001b[39mA\u001b[39m\u001b[39mA\u001b[39m\u001b[39mG\u001b[39m\u001b[39mC\u001b[39m\u001b[39mT\u001b[39m\u001b[39mC\u001b[39m\n",
      "mySOIPositions: \t\u001b[39m0\u001b[39m\u001b[39m0\u001b[39m\u001b[32m1\u001b[39m\u001b[32m2\u001b[39m\u001b[32m1\u001b[39m\u001b[39m0\u001b[39m\u001b[39m0\u001b[39m\u001b[39m0\u001b[39m\u001b[39m0\u001b[39m\u001b[39m0\u001b[39m\u001b[39m0\u001b[39m\u001b[39m0\u001b[39m\u001b[39m0\u001b[39m\u001b[39m0\u001b[39m\u001b[39m0\u001b[39m\u001b[39m0\u001b[39m\u001b[39m0\u001b[39m\u001b[39m0\u001b[39m\u001b[39m0\u001b[39m\u001b[39m0\u001b[39m\u001b[39m0\u001b[39m\u001b[39m0\u001b[39m\u001b[39m0\u001b[39m\u001b[39m0\u001b[39m\u001b[39m0\u001b[39m\u001b[39m0\u001b[39m\u001b[39m0\u001b[39m\u001b[39m0\u001b[39m\u001b[32m1\u001b[39m\u001b[32m2\u001b[39m\u001b[32m1\u001b[39m\u001b[39m0\u001b[39m\u001b[39m0\u001b[39m\u001b[39m0\u001b[39m\u001b[39m0\u001b[39m\u001b[39m0\u001b[39m\u001b[39m0\u001b[39m\u001b[39m0\u001b[39m\u001b[39m0\u001b[39m\u001b[39m0\u001b[39m\u001b[39m0\u001b[39m\u001b[39m0\u001b[39m\u001b[32m1\u001b[39m\u001b[32m1\u001b[39m\u001b[39m0\u001b[39m\u001b[39m0\u001b[39m\u001b[39m0\u001b[39m\u001b[39m0\u001b[39m\u001b[39m0\u001b[39m\u001b[39m0\u001b[39m\u001b[39m0\u001b[39m\u001b[39m0\u001b[39m\u001b[39m0\u001b[39m\u001b[39m0\u001b[39m\u001b[39m0\u001b[39m\u001b[39m0\u001b[39m\u001b[39m0\u001b[39m\u001b[39m0\u001b[39m\u001b[39m0\u001b[39m\u001b[39m0\u001b[39m\u001b[39m0\u001b[39m\u001b[39m0\u001b[39m\u001b[39m0\u001b[39m\u001b[39m0\u001b[39m\u001b[39m0\u001b[39m\u001b[39m0\u001b[39m\u001b[39m0\u001b[39m\u001b[39m0\u001b[39m\u001b[39m0\u001b[39m\u001b[39m0\u001b[39m\u001b[39m0\u001b[39m\u001b[39m0\u001b[39m\u001b[39m0\u001b[39m\u001b[39m0\u001b[39m\u001b[39m0\u001b[39m\u001b[39m0\u001b[39m\u001b[39m0\u001b[39m\u001b[39m0\u001b[39m\u001b[39m0\u001b[39m\u001b[39m0\u001b[39m\u001b[39m0\u001b[39m\u001b[39m0\u001b[39m\u001b[39m0\u001b[39m\u001b[39m0\u001b[39m\u001b[39m0\u001b[39m\u001b[39m0\u001b[39m\u001b[39m0\u001b[39m\u001b[39m0\u001b[39m\u001b[39m0\u001b[39m\u001b[39m0\u001b[39m\u001b[32m1\u001b[39m\u001b[32m1\u001b[39m\u001b[39m0\u001b[39m\u001b[39m0\u001b[39m\u001b[39m0\u001b[39m\u001b[39m0\u001b[39m\u001b[39m0\u001b[39m\u001b[39m0\u001b[39m\u001b[39m0\u001b[39m\u001b[39m0\u001b[39m\n"
     ]
    }
   ],
   "source": [
    "# sources\n",
    "# - https://www.bioinformatics.org/sms2/random_dna.html\n",
    "\n",
    "# include packages\n",
    "from ExternalPackages.TerminalColors import TerminalColors\n",
    "import Part01.A_Groundwork as Groundwork\n",
    "\n",
    "mySequenceInput      = \"ctgggactctagctgatccacccgcctagggcagcacacataggacgtagctgcgccaaaaagacgaacccaccatgcccagacgcatctggctaagctc\"\n",
    "mySequence           = mySequenceInput.upper()\n",
    "mySOI                = \"GG\"\n",
    "\n",
    "myCount, mySOIPositions = Groundwork.SOIPositions(mySequence, mySOI)\n",
    "myColor                 = TerminalColors.Green\n",
    "myDefaultColor          = TerminalColors.Default\n",
    "\n",
    "mySequenceColored       = Groundwork.ColorTheSeq(mySequence, mySOIPositions, myColor, myDefaultColor)\n",
    "mySOIPositionsColored   = Groundwork.ColorTheSeq(mySOIPositions, mySOIPositions, myColor, myDefaultColor)\n",
    "\n",
    "print(\"mySequence : \\t \\t\" + mySequenceColored, end = \"\\n\")\n",
    "print(\"mySOIPositions: \\t\" + mySOIPositionsColored, end = '\\n')"
   ]
  },
  {
   "attachments": {},
   "cell_type": "markdown",
   "id": "f5278c53",
   "metadata": {},
   "source": [
    "## 1.4 <a name=\"IdentMultipleOfSOIsInTargetSeq\">Identification of Multiple Sequences of Interest within a Target Sequence</a>"
   ]
  },
  {
   "attachments": {},
   "cell_type": "markdown",
   "id": "d985eafb",
   "metadata": {},
   "source": [
    "Goal:\n",
    "\n",
    "To generalize the algorithm above. The positions of 3 given SOIs (mySOIs) shall be\n",
    "1. identified in a target sequence (mySequence),\n",
    "2. labelled individually (green, blue and yellow) and\n",
    "3. a character of the target sequence shall be colored in red, if there is an overlap between the same or different SOIs."
   ]
  },
  {
   "cell_type": "code",
   "execution_count": 4,
   "id": "55b6f4ba",
   "metadata": {},
   "outputs": [
    {
     "name": "stdout",
     "output_type": "stream",
     "text": [
      "mySOI  0 : \t \t \t \u001b[39mC\u001b[39m\u001b[39mT\u001b[39m\u001b[39mG\u001b[39m\u001b[39mG\u001b[39m\u001b[39mG\u001b[39m\u001b[39mA\u001b[39m\u001b[39mC\u001b[39m\u001b[39mT\u001b[39m\u001b[39mC\u001b[39m\u001b[39mT\u001b[39m\u001b[39mA\u001b[39m\u001b[39mG\u001b[39m\u001b[39mC\u001b[39m\u001b[39mT\u001b[39m\u001b[39mG\u001b[39m\u001b[39mA\u001b[39m\u001b[39mT\u001b[39m\u001b[39mC\u001b[39m\u001b[39mC\u001b[39m\u001b[39mA\u001b[39m\u001b[39mC\u001b[39m\u001b[39mC\u001b[39m\u001b[39mC\u001b[39m\u001b[39mG\u001b[39m\u001b[39mC\u001b[39m\u001b[39mC\u001b[39m\u001b[39mT\u001b[39m\u001b[32mA\u001b[39m\u001b[32mG\u001b[39m\u001b[32mG\u001b[39m\u001b[39mG\u001b[39m\u001b[39mC\u001b[39m\u001b[39mA\u001b[39m\u001b[39mG\u001b[39m\u001b[39mC\u001b[39m\u001b[39mA\u001b[39m\u001b[39mC\u001b[39m\u001b[39mA\u001b[39m\u001b[39mC\u001b[39m\u001b[39mA\u001b[39m\u001b[39mT\u001b[39m\u001b[32mA\u001b[39m\u001b[32mG\u001b[39m\u001b[32mG\u001b[39m\u001b[39mA\u001b[39m\u001b[39mC\u001b[39m\u001b[39mG\u001b[39m\u001b[39mT\u001b[39m\u001b[39mA\u001b[39m\u001b[39mG\u001b[39m\u001b[39mC\u001b[39m\u001b[39mT\u001b[39m\u001b[39mG\u001b[39m\u001b[39mC\u001b[39m\u001b[39mG\u001b[39m\u001b[39mC\u001b[39m\u001b[39mC\u001b[39m\u001b[39mA\u001b[39m\u001b[39mA\u001b[39m\u001b[39mA\u001b[39m\u001b[39mA\u001b[39m\u001b[39mA\u001b[39m\u001b[39mG\u001b[39m\u001b[39mA\u001b[39m\u001b[39mC\u001b[39m\u001b[39mG\u001b[39m\u001b[39mA\u001b[39m\u001b[39mA\u001b[39m\u001b[39mC\u001b[39m\u001b[39mC\u001b[39m\u001b[39mC\u001b[39m\u001b[39mA\u001b[39m\u001b[39mC\u001b[39m\u001b[39mC\u001b[39m\u001b[39mA\u001b[39m\u001b[39mT\u001b[39m\u001b[39mG\u001b[39m\u001b[39mC\u001b[39m\u001b[39mC\u001b[39m\u001b[39mC\u001b[39m\u001b[39mA\u001b[39m\u001b[39mG\u001b[39m\u001b[39mA\u001b[39m\u001b[39mC\u001b[39m\u001b[39mG\u001b[39m\u001b[39mC\u001b[39m\u001b[39mA\u001b[39m\u001b[39mT\u001b[39m\u001b[39mC\u001b[39m\u001b[39mT\u001b[39m\u001b[39mG\u001b[39m\u001b[39mG\u001b[39m\u001b[39mC\u001b[39m\u001b[39mT\u001b[39m\u001b[39mA\u001b[39m\u001b[39mA\u001b[39m\u001b[39mG\u001b[39m\u001b[39mC\u001b[39m\u001b[39mT\u001b[39m\u001b[39mC\u001b[39m\n",
      "mySOI  1 : \t \t \t \u001b[39mC\u001b[39m\u001b[39mT\u001b[39m\u001b[39mG\u001b[39m\u001b[39mG\u001b[39m\u001b[34mG\u001b[39m\u001b[34mA\u001b[39m\u001b[34mC\u001b[39m\u001b[39mT\u001b[39m\u001b[39mC\u001b[39m\u001b[39mT\u001b[39m\u001b[39mA\u001b[39m\u001b[39mG\u001b[39m\u001b[39mC\u001b[39m\u001b[39mT\u001b[39m\u001b[39mG\u001b[39m\u001b[39mA\u001b[39m\u001b[39mT\u001b[39m\u001b[39mC\u001b[39m\u001b[39mC\u001b[39m\u001b[39mA\u001b[39m\u001b[39mC\u001b[39m\u001b[39mC\u001b[39m\u001b[39mC\u001b[39m\u001b[39mG\u001b[39m\u001b[39mC\u001b[39m\u001b[39mC\u001b[39m\u001b[39mT\u001b[39m\u001b[39mA\u001b[39m\u001b[39mG\u001b[39m\u001b[39mG\u001b[39m\u001b[39mG\u001b[39m\u001b[39mC\u001b[39m\u001b[39mA\u001b[39m\u001b[39mG\u001b[39m\u001b[39mC\u001b[39m\u001b[39mA\u001b[39m\u001b[39mC\u001b[39m\u001b[39mA\u001b[39m\u001b[39mC\u001b[39m\u001b[39mA\u001b[39m\u001b[39mT\u001b[39m\u001b[39mA\u001b[39m\u001b[39mG\u001b[39m\u001b[34mG\u001b[39m\u001b[34mA\u001b[39m\u001b[34mC\u001b[39m\u001b[39mG\u001b[39m\u001b[39mT\u001b[39m\u001b[39mA\u001b[39m\u001b[39mG\u001b[39m\u001b[39mC\u001b[39m\u001b[39mT\u001b[39m\u001b[39mG\u001b[39m\u001b[39mC\u001b[39m\u001b[39mG\u001b[39m\u001b[39mC\u001b[39m\u001b[39mC\u001b[39m\u001b[39mA\u001b[39m\u001b[39mA\u001b[39m\u001b[39mA\u001b[39m\u001b[39mA\u001b[39m\u001b[39mA\u001b[39m\u001b[34mG\u001b[39m\u001b[34mA\u001b[39m\u001b[34mC\u001b[39m\u001b[39mG\u001b[39m\u001b[39mA\u001b[39m\u001b[39mA\u001b[39m\u001b[39mC\u001b[39m\u001b[39mC\u001b[39m\u001b[39mC\u001b[39m\u001b[39mA\u001b[39m\u001b[39mC\u001b[39m\u001b[39mC\u001b[39m\u001b[39mA\u001b[39m\u001b[39mT\u001b[39m\u001b[39mG\u001b[39m\u001b[39mC\u001b[39m\u001b[39mC\u001b[39m\u001b[39mC\u001b[39m\u001b[39mA\u001b[39m\u001b[34mG\u001b[39m\u001b[34mA\u001b[39m\u001b[34mC\u001b[39m\u001b[39mG\u001b[39m\u001b[39mC\u001b[39m\u001b[39mA\u001b[39m\u001b[39mT\u001b[39m\u001b[39mC\u001b[39m\u001b[39mT\u001b[39m\u001b[39mG\u001b[39m\u001b[39mG\u001b[39m\u001b[39mC\u001b[39m\u001b[39mT\u001b[39m\u001b[39mA\u001b[39m\u001b[39mA\u001b[39m\u001b[39mG\u001b[39m\u001b[39mC\u001b[39m\u001b[39mT\u001b[39m\u001b[39mC\u001b[39m\n",
      "mySOI  2 : \t \t \t \u001b[39mC\u001b[39m\u001b[39mT\u001b[39m\u001b[39mG\u001b[39m\u001b[39mG\u001b[39m\u001b[39mG\u001b[39m\u001b[39mA\u001b[39m\u001b[39mC\u001b[39m\u001b[39mT\u001b[39m\u001b[33mC\u001b[39m\u001b[33mT\u001b[39m\u001b[33mA\u001b[39m\u001b[33mG\u001b[39m\u001b[39mC\u001b[39m\u001b[39mT\u001b[39m\u001b[39mG\u001b[39m\u001b[39mA\u001b[39m\u001b[39mT\u001b[39m\u001b[39mC\u001b[39m\u001b[39mC\u001b[39m\u001b[39mA\u001b[39m\u001b[39mC\u001b[39m\u001b[39mC\u001b[39m\u001b[39mC\u001b[39m\u001b[39mG\u001b[39m\u001b[39mC\u001b[39m\u001b[33mC\u001b[39m\u001b[33mT\u001b[39m\u001b[33mA\u001b[39m\u001b[33mG\u001b[39m\u001b[39mG\u001b[39m\u001b[39mG\u001b[39m\u001b[39mC\u001b[39m\u001b[39mA\u001b[39m\u001b[39mG\u001b[39m\u001b[39mC\u001b[39m\u001b[39mA\u001b[39m\u001b[39mC\u001b[39m\u001b[39mA\u001b[39m\u001b[39mC\u001b[39m\u001b[39mA\u001b[39m\u001b[39mT\u001b[39m\u001b[39mA\u001b[39m\u001b[39mG\u001b[39m\u001b[39mG\u001b[39m\u001b[39mA\u001b[39m\u001b[39mC\u001b[39m\u001b[39mG\u001b[39m\u001b[39mT\u001b[39m\u001b[39mA\u001b[39m\u001b[39mG\u001b[39m\u001b[39mC\u001b[39m\u001b[39mT\u001b[39m\u001b[39mG\u001b[39m\u001b[39mC\u001b[39m\u001b[39mG\u001b[39m\u001b[39mC\u001b[39m\u001b[39mC\u001b[39m\u001b[39mA\u001b[39m\u001b[39mA\u001b[39m\u001b[39mA\u001b[39m\u001b[39mA\u001b[39m\u001b[39mA\u001b[39m\u001b[39mG\u001b[39m\u001b[39mA\u001b[39m\u001b[39mC\u001b[39m\u001b[39mG\u001b[39m\u001b[39mA\u001b[39m\u001b[39mA\u001b[39m\u001b[39mC\u001b[39m\u001b[39mC\u001b[39m\u001b[39mC\u001b[39m\u001b[39mA\u001b[39m\u001b[39mC\u001b[39m\u001b[39mC\u001b[39m\u001b[39mA\u001b[39m\u001b[39mT\u001b[39m\u001b[39mG\u001b[39m\u001b[39mC\u001b[39m\u001b[39mC\u001b[39m\u001b[39mC\u001b[39m\u001b[39mA\u001b[39m\u001b[39mG\u001b[39m\u001b[39mA\u001b[39m\u001b[39mC\u001b[39m\u001b[39mG\u001b[39m\u001b[39mC\u001b[39m\u001b[39mA\u001b[39m\u001b[39mT\u001b[39m\u001b[39mC\u001b[39m\u001b[39mT\u001b[39m\u001b[39mG\u001b[39m\u001b[39mG\u001b[39m\u001b[39mC\u001b[39m\u001b[39mT\u001b[39m\u001b[39mA\u001b[39m\u001b[39mA\u001b[39m\u001b[39mG\u001b[39m\u001b[39mC\u001b[39m\u001b[39mT\u001b[39m\u001b[39mC\u001b[39m\n",
      "-------------------------------------------------------------------------------------------------------------------------------------\n",
      "mySOIs (total): \t \t \u001b[39mC\u001b[39m\u001b[39mT\u001b[39m\u001b[39mG\u001b[39m\u001b[39mG\u001b[39m\u001b[34mG\u001b[39m\u001b[34mA\u001b[39m\u001b[34mC\u001b[39m\u001b[39mT\u001b[39m\u001b[33mC\u001b[39m\u001b[33mT\u001b[39m\u001b[33mA\u001b[39m\u001b[33mG\u001b[39m\u001b[39mC\u001b[39m\u001b[39mT\u001b[39m\u001b[39mG\u001b[39m\u001b[39mA\u001b[39m\u001b[39mT\u001b[39m\u001b[39mC\u001b[39m\u001b[39mC\u001b[39m\u001b[39mA\u001b[39m\u001b[39mC\u001b[39m\u001b[39mC\u001b[39m\u001b[39mC\u001b[39m\u001b[39mG\u001b[39m\u001b[39mC\u001b[39m\u001b[33mC\u001b[39m\u001b[33mT\u001b[39m\u001b[31mA\u001b[39m\u001b[31mG\u001b[39m\u001b[32mG\u001b[39m\u001b[39mG\u001b[39m\u001b[39mC\u001b[39m\u001b[39mA\u001b[39m\u001b[39mG\u001b[39m\u001b[39mC\u001b[39m\u001b[39mA\u001b[39m\u001b[39mC\u001b[39m\u001b[39mA\u001b[39m\u001b[39mC\u001b[39m\u001b[39mA\u001b[39m\u001b[39mT\u001b[39m\u001b[32mA\u001b[39m\u001b[32mG\u001b[39m\u001b[31mG\u001b[39m\u001b[34mA\u001b[39m\u001b[34mC\u001b[39m\u001b[39mG\u001b[39m\u001b[39mT\u001b[39m\u001b[39mA\u001b[39m\u001b[39mG\u001b[39m\u001b[39mC\u001b[39m\u001b[39mT\u001b[39m\u001b[39mG\u001b[39m\u001b[39mC\u001b[39m\u001b[39mG\u001b[39m\u001b[39mC\u001b[39m\u001b[39mC\u001b[39m\u001b[39mA\u001b[39m\u001b[39mA\u001b[39m\u001b[39mA\u001b[39m\u001b[39mA\u001b[39m\u001b[39mA\u001b[39m\u001b[34mG\u001b[39m\u001b[34mA\u001b[39m\u001b[34mC\u001b[39m\u001b[39mG\u001b[39m\u001b[39mA\u001b[39m\u001b[39mA\u001b[39m\u001b[39mC\u001b[39m\u001b[39mC\u001b[39m\u001b[39mC\u001b[39m\u001b[39mA\u001b[39m\u001b[39mC\u001b[39m\u001b[39mC\u001b[39m\u001b[39mA\u001b[39m\u001b[39mT\u001b[39m\u001b[39mG\u001b[39m\u001b[39mC\u001b[39m\u001b[39mC\u001b[39m\u001b[39mC\u001b[39m\u001b[39mA\u001b[39m\u001b[34mG\u001b[39m\u001b[34mA\u001b[39m\u001b[34mC\u001b[39m\u001b[39mG\u001b[39m\u001b[39mC\u001b[39m\u001b[39mA\u001b[39m\u001b[39mT\u001b[39m\u001b[39mC\u001b[39m\u001b[39mT\u001b[39m\u001b[39mG\u001b[39m\u001b[39mG\u001b[39m\u001b[39mC\u001b[39m\u001b[39mT\u001b[39m\u001b[39mA\u001b[39m\u001b[39mA\u001b[39m\u001b[39mG\u001b[39m\u001b[39mC\u001b[39m\u001b[39mT\u001b[39m\u001b[39mC\u001b[39m\n",
      "mySOIPositions (total) : \t \u001b[39m0\u001b[39m\u001b[39m0\u001b[39m\u001b[39m0\u001b[39m\u001b[39m0\u001b[39m\u001b[34m1\u001b[39m\u001b[34m1\u001b[39m\u001b[34m1\u001b[39m\u001b[39m0\u001b[39m\u001b[33m1\u001b[39m\u001b[33m1\u001b[39m\u001b[33m1\u001b[39m\u001b[33m1\u001b[39m\u001b[39m0\u001b[39m\u001b[39m0\u001b[39m\u001b[39m0\u001b[39m\u001b[39m0\u001b[39m\u001b[39m0\u001b[39m\u001b[39m0\u001b[39m\u001b[39m0\u001b[39m\u001b[39m0\u001b[39m\u001b[39m0\u001b[39m\u001b[39m0\u001b[39m\u001b[39m0\u001b[39m\u001b[39m0\u001b[39m\u001b[39m0\u001b[39m\u001b[33m1\u001b[39m\u001b[33m1\u001b[39m\u001b[31m2\u001b[39m\u001b[31m2\u001b[39m\u001b[32m1\u001b[39m\u001b[39m0\u001b[39m\u001b[39m0\u001b[39m\u001b[39m0\u001b[39m\u001b[39m0\u001b[39m\u001b[39m0\u001b[39m\u001b[39m0\u001b[39m\u001b[39m0\u001b[39m\u001b[39m0\u001b[39m\u001b[39m0\u001b[39m\u001b[39m0\u001b[39m\u001b[39m0\u001b[39m\u001b[32m1\u001b[39m\u001b[32m1\u001b[39m\u001b[31m2\u001b[39m\u001b[34m1\u001b[39m\u001b[34m1\u001b[39m\u001b[39m0\u001b[39m\u001b[39m0\u001b[39m\u001b[39m0\u001b[39m\u001b[39m0\u001b[39m\u001b[39m0\u001b[39m\u001b[39m0\u001b[39m\u001b[39m0\u001b[39m\u001b[39m0\u001b[39m\u001b[39m0\u001b[39m\u001b[39m0\u001b[39m\u001b[39m0\u001b[39m\u001b[39m0\u001b[39m\u001b[39m0\u001b[39m\u001b[39m0\u001b[39m\u001b[39m0\u001b[39m\u001b[39m0\u001b[39m\u001b[34m1\u001b[39m\u001b[34m1\u001b[39m\u001b[34m1\u001b[39m\u001b[39m0\u001b[39m\u001b[39m0\u001b[39m\u001b[39m0\u001b[39m\u001b[39m0\u001b[39m\u001b[39m0\u001b[39m\u001b[39m0\u001b[39m\u001b[39m0\u001b[39m\u001b[39m0\u001b[39m\u001b[39m0\u001b[39m\u001b[39m0\u001b[39m\u001b[39m0\u001b[39m\u001b[39m0\u001b[39m\u001b[39m0\u001b[39m\u001b[39m0\u001b[39m\u001b[39m0\u001b[39m\u001b[39m0\u001b[39m\u001b[34m1\u001b[39m\u001b[34m1\u001b[39m\u001b[34m1\u001b[39m\u001b[39m0\u001b[39m\u001b[39m0\u001b[39m\u001b[39m0\u001b[39m\u001b[39m0\u001b[39m\u001b[39m0\u001b[39m\u001b[39m0\u001b[39m\u001b[39m0\u001b[39m\u001b[39m0\u001b[39m\u001b[39m0\u001b[39m\u001b[39m0\u001b[39m\u001b[39m0\u001b[39m\u001b[39m0\u001b[39m\u001b[39m0\u001b[39m\u001b[39m0\u001b[39m\u001b[39m0\u001b[39m\u001b[39m0\u001b[39m\n"
     ]
    }
   ],
   "source": [
    "# include packages\n",
    "from ExternalPackages.TerminalColors import TerminalColors\n",
    "import Part01.A_Groundwork as Groundwork\n",
    "\n",
    "myNumberOfSOIs       = 3\n",
    "mySOI                = [\"\"] * myNumberOfSOIs\n",
    "myCount              = [0]  * myNumberOfSOIs\n",
    "mySOIPositions       = [0]  * myNumberOfSOIs\n",
    "myColors             = [\"\"] * myNumberOfSOIs\n",
    "mySequenceColored    = [\"\"] * myNumberOfSOIs\n",
    "myColors             = [TerminalColors.Green, TerminalColors.Blue, TerminalColors.Yellow]\n",
    "myDefaultColor       = TerminalColors.Default\n",
    "myColorWarning       = TerminalColors.Red\n",
    "\n",
    "mySequenceInput      = \"ctgggactctagctgatccacccgcctagggcagcacacataggacgtagctgcgccaaaaagacgaacccaccatgcccagacgcatctggctaagctc\"\n",
    "mySequence=mySequenceInput.upper()\n",
    "mySOI[0]             = \"AGG\"\n",
    "mySOI[1]             = \"GAC\"\n",
    "mySOI[2]             = \"CTAG\"\n",
    "\n",
    "for ii in range(myNumberOfSOIs):\n",
    "    myCount[ii], mySOIPositions[ii] = Groundwork.SOIPositions(mySequence, mySOI[ii])\n",
    "    mySequenceColored[ii]           = Groundwork.ColorTheSeq(mySequence, mySOIPositions[ii], myColors[ii], myDefaultColor)\n",
    "    print(\"mySOI \", ii, \": \\t \\t \\t\", mySequenceColored[ii], end = '\\n')\n",
    "\n",
    "mySequenceColored, mySOIPositionsTotalColored, mySOIPositionsTotal = Groundwork.ColorTheSeqMerge(mySequence,\n",
    "                                                                                          mySOIPositions,\n",
    "                                                                                          myColors,\n",
    "                                                                                          myDefaultColor,\n",
    "                                                                                          myColorWarning)\n",
    "\n",
    "print(\"-\" * 133, end = '\\n')\n",
    "print(\"mySOIs (total): \\t \\t\", mySequenceColored, end = '\\n')\n",
    "print(\"mySOIPositions (total) : \\t\", mySOIPositionsTotalColored, end = '\\n')"
   ]
  },
  {
   "cell_type": "code",
   "execution_count": 5,
   "id": "2b275099",
   "metadata": {},
   "outputs": [
    {
     "data": {
      "text/plain": [
       "0"
      ]
     },
     "execution_count": 5,
     "metadata": {},
     "output_type": "execute_result"
    }
   ],
   "source": [
    "# export code to html\n",
    "import os\n",
    "os.system(\"jupyter nbconvert SequenceAnalysisPart01.ipynb --to html\")"
   ]
  }
 ],
 "metadata": {
  "hide_input": false,
  "kernelspec": {
   "display_name": "Python 3 (ipykernel)",
   "language": "python",
   "name": "python3"
  },
  "language_info": {
   "codemirror_mode": {
    "name": "ipython",
    "version": 3
   },
   "file_extension": ".py",
   "mimetype": "text/x-python",
   "name": "python",
   "nbconvert_exporter": "python",
   "pygments_lexer": "ipython3",
   "version": "3.11.2"
  },
  "latex_envs": {
   "LaTeX_envs_menu_present": true,
   "autoclose": false,
   "autocomplete": true,
   "bibliofile": "biblio.bib",
   "cite_by": "apalike",
   "current_citInitial": 1,
   "eqLabelWithNumbers": true,
   "eqNumInitial": 1,
   "hotkeys": {
    "equation": "Ctrl-E",
    "itemize": "Ctrl-I"
   },
   "labels_anchors": false,
   "latex_user_defs": false,
   "report_style_numbering": false,
   "user_envs_cfg": false
  },
  "nbTranslate": {
   "displayLangs": [
    "*"
   ],
   "hotkey": "alt-t",
   "langInMainMenu": true,
   "sourceLang": "en",
   "targetLang": "fr",
   "useGoogleTranslate": true
  },
  "toc": {
   "base_numbering": 1,
   "nav_menu": {},
   "number_sections": true,
   "sideBar": true,
   "skip_h1_title": false,
   "title_cell": "Table of Contents",
   "title_sidebar": "Contents",
   "toc_cell": true,
   "toc_position": {},
   "toc_section_display": true,
   "toc_window_display": true
  }
 },
 "nbformat": 4,
 "nbformat_minor": 5
}
