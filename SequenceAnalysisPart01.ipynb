{
 "cells": [
  {
   "attachments": {},
   "cell_type": "markdown",
   "id": "36ba9a1c",
   "metadata": {
    "toc": true
   },
   "source": [
    "<h1><span>Sequence Analysis Part 1 (Basics)</span></h1>"
   ]
  },
  {
   "attachments": {},
   "cell_type": "markdown",
   "id": "a23a9b9e",
   "metadata": {},
   "source": [
    "This \"Part 1\" is a collection of Python-based example codes focussing on sequence analysis on a very basic level (see <a name=\"TOC\">TOC</a>). It is motivated by the many jobs descriptions currently online for genome analysis, next-gen-sequencing (NGS) advances and my fascination towards life science in general. Check out my website (www.bio-century.net) for demos, literature recommendations, links to data bases and further inspirations. Apologies for the code often being a little sloppy and \"easy-going\". Due to a limited time frame, priorities were set to \"progress & visualization\" instead of \"finding the most efficient solution\" :) <br>\n",
    "Whenever a function or method is developed to fulfill the goals, it is outsources into the subfolder \"Part01\", take a look and have fun."
   ]
  },
  {
   "attachments": {},
   "cell_type": "markdown",
   "id": "133091f0",
   "metadata": {},
   "source": [
    "# Table of Contents\n",
    "0. [Reference Table](#ReferenceTable)\n",
    "1. [First Steps in Sequence Analysis (Groundwork)](#FirstStepsInSequenceAnalysis)\n",
    "   1. [Color Strings in Terminal Output](#ColoringStrings)\n",
    "   2. [Computation of Complement, Reverse and Reverse Complement of ssDNA](#ComplRevRevComplssDNA)\n",
    "   3. [Identification of Sequences of Interest within a Target Sequence](#IdentOfSOIsInTargetSeq)\n",
    "   4. [Identification of Multiple Sequences of Interest within a Target Sequence](#IdentMultipleOfSOIsInTargetSeq)\n",
    "   5. [Working with k-mers](#WorkingWithKmers)\n",
    "2. [Set Up a simple Graphical User Interface (GUI)](#SetUpSimpleGUI)\n",
    "\n",
    "3. [.html-Export of Code](#htmlExportOfCode)"
   ]
  },
  {
   "attachments": {},
   "cell_type": "markdown",
   "id": "12fed6e0",
   "metadata": {},
   "source": [
    "# 0. <a name=\"ReferenceTable\"> Reference Table</a>"
   ]
  },
  {
   "attachments": {},
   "cell_type": "markdown",
   "id": "2fb005be",
   "metadata": {},
   "source": [
    "| Tag or Variable | Meaning              |\n",
    "|-----------------|----------------------|\n",
    "| mySequence      | Target Sequence      |\n",
    "| mySOI           | Sequence of Interest |\n",
    "| ssDNA           | single-stranded DNA  |"
   ]
  },
  {
   "attachments": {},
   "cell_type": "markdown",
   "id": "642f1dfa",
   "metadata": {},
   "source": [
    "# 1. <a name=\"FirstStepsInSequenceAnalysis\"> First Steps in Sequence Analysis (Groundwork)</a>"
   ]
  },
  {
   "attachments": {},
   "cell_type": "markdown",
   "id": "4bea308d",
   "metadata": {},
   "source": [
    "## 1.1 <a name=\"ColoringStrings\">Color Strings in Terminal Output</a>"
   ]
  },
  {
   "attachments": {},
   "cell_type": "markdown",
   "id": "78383cfe",
   "metadata": {},
   "source": [
    "Goal:\n",
    "1. Load a target DNA-sequence (\"mySequence\") from external file\n",
    "2. split the DNA at first incidence of a dedicated subpart (\"mySOI\") and\n",
    "3. colorprint a for visualization purposes."
   ]
  },
  {
   "cell_type": "code",
   "execution_count": 1,
   "id": "72466eed",
   "metadata": {},
   "outputs": [
    {
     "name": "stdout",
     "output_type": "stream",
     "text": [
      "ctgggactctagctgatccacccgcctagggcagcacacataggacgtagct\u001b[32mCGCCAAAAA\u001b[39m\n",
      "                                                    \u001b[94mCGCCAAAAA\u001b[39mgccaaaaagacgaacccaccatgcccagacgcatctggctaagctc"
     ]
    }
   ],
   "source": [
    "# sources\n",
    "# - https://www.bioinformatics.org/sms2/random_dna.html\n",
    "# - https://pkg.go.dev/github.com/whitedevops/colors\n",
    "\n",
    "# include packages\n",
    "from ExternalPackages.TerminalColors import TerminalColors\n",
    "\n",
    "mySOI=\"CGCCAAAAA\"\n",
    "\n",
    "# load file line-by-line\n",
    "with open('./Part01Data/01_01_SeqOfInterest.txt') as f:\n",
    "    myLines = f.readlines()\n",
    "\n",
    "# find mySO, split and color it\n",
    "for ii, mySequence in enumerate(myLines):\n",
    "    SOI_POS = mySequence.upper().rfind(mySOI)\n",
    "    print(mySequence[:SOI_POS - 1]\n",
    "          + f\"{TerminalColors.Green}\"\n",
    "          + mySequence[SOI_POS:SOI_POS + len(mySOI)].upper()\n",
    "          + f\"{TerminalColors.Default}\", end = '\\n')\n",
    "    print(\" \"*(SOI_POS - 1)\n",
    "          + f\"{TerminalColors.LightBlue}\"\n",
    "          + mySequence[SOI_POS:SOI_POS + len(mySOI)].upper()\n",
    "          + f\"{TerminalColors.Default}\" + mySequence[SOI_POS + 1:], end = '')"
   ]
  },
  {
   "attachments": {},
   "cell_type": "markdown",
   "id": "22b78482",
   "metadata": {},
   "source": [
    "## 1.2 <a name=\"ComplRevRevComplssDNA\">Computation of Complement, Reverse and Reverse Complement of ssDNA</a>"
   ]
  },
  {
   "attachments": {},
   "cell_type": "markdown",
   "id": "6456ba79",
   "metadata": {},
   "source": [
    "Goal: <br>\n",
    "To determine all modalities of a DNA-single-strand sequence, i.e.\n",
    "1. the complement-,\n",
    "2. the reverse- as well as\n",
    "3. the reverse-complement-strand\n",
    "\n",
    "and visualize them."
   ]
  },
  {
   "cell_type": "code",
   "execution_count": 2,
   "id": "cf46ffed",
   "metadata": {},
   "outputs": [
    {
     "name": "stdout",
     "output_type": "stream",
     "text": [
      "Sequence: \t \t \u001b[33mC\u001b[39m\u001b[35mT\u001b[39m\u001b[34mG\u001b[39m\u001b[34mG\u001b[39m\u001b[34mG\u001b[39m\u001b[32mA\u001b[39m\u001b[33mC\u001b[39m\u001b[35mT\u001b[39m\u001b[33mC\u001b[39m\u001b[35mT\u001b[39m\u001b[32mA\u001b[39m\u001b[34mG\u001b[39m\u001b[33mC\u001b[39m\u001b[35mT\u001b[39m\u001b[34mG\u001b[39m\u001b[32mA\u001b[39m\u001b[35mT\u001b[39m\u001b[33mC\u001b[39m\u001b[33mC\u001b[39m\u001b[32mA\u001b[39m\u001b[33mC\u001b[39m\u001b[33mC\u001b[39m\u001b[33mC\u001b[39m\u001b[34mG\u001b[39m\u001b[33mC\u001b[39m\u001b[33mC\u001b[39m\u001b[35mT\u001b[39m\u001b[32mA\u001b[39m\u001b[34mG\u001b[39m\u001b[34mG\u001b[39m\u001b[34mG\u001b[39m\u001b[33mC\u001b[39m\u001b[32mA\u001b[39m\u001b[34mG\u001b[39m\u001b[33mC\u001b[39m\u001b[32mA\u001b[39m\u001b[33mC\u001b[39m\u001b[32mA\u001b[39m\u001b[33mC\u001b[39m\u001b[32mA\u001b[39m\u001b[35mT\u001b[39m\u001b[32mA\u001b[39m\u001b[34mG\u001b[39m\u001b[34mG\u001b[39m\u001b[32mA\u001b[39m\u001b[33mC\u001b[39m\u001b[34mG\u001b[39m\u001b[35mT\u001b[39m\u001b[32mA\u001b[39m\u001b[34mG\u001b[39m\u001b[33mC\u001b[39m\u001b[35mT\u001b[39m\u001b[34mG\u001b[39m\u001b[33mC\u001b[39m\u001b[34mG\u001b[39m\u001b[33mC\u001b[39m\u001b[33mC\u001b[39m\u001b[32mA\u001b[39m\u001b[32mA\u001b[39m\u001b[32mA\u001b[39m\u001b[32mA\u001b[39m\u001b[32mA\u001b[39m\u001b[34mG\u001b[39m\u001b[32mA\u001b[39m\u001b[33mC\u001b[39m\u001b[34mG\u001b[39m\u001b[32mA\u001b[39m\u001b[32mA\u001b[39m\u001b[33mC\u001b[39m\u001b[33mC\u001b[39m\u001b[33mC\u001b[39m\u001b[32mA\u001b[39m\u001b[33mC\u001b[39m\u001b[33mC\u001b[39m\u001b[32mA\u001b[39m\u001b[35mT\u001b[39m\u001b[34mG\u001b[39m\u001b[33mC\u001b[39m\u001b[33mC\u001b[39m\u001b[33mC\u001b[39m\u001b[32mA\u001b[39m\u001b[34mG\u001b[39m\u001b[32mA\u001b[39m\u001b[33mC\u001b[39m\u001b[34mG\u001b[39m\u001b[33mC\u001b[39m\u001b[32mA\u001b[39m\u001b[35mT\u001b[39m\u001b[33mC\u001b[39m\u001b[35mT\u001b[39m\u001b[34mG\u001b[39m\u001b[34mG\u001b[39m\u001b[33mC\u001b[39m\u001b[35mT\u001b[39m\u001b[32mA\u001b[39m\u001b[32mA\u001b[39m\u001b[34mG\u001b[39m\u001b[33mC\u001b[39m\u001b[35mT\u001b[39m\u001b[33mC\u001b[39m\n",
      "\t \t \t ||||||||||||||||||||||||||||||||||||||||||||||||||||||||||||||||||||||||||||||||||||||||||||||||||||\n",
      "Complement: \t \t \u001b[34mG\u001b[39m\u001b[32mA\u001b[39m\u001b[33mC\u001b[39m\u001b[33mC\u001b[39m\u001b[33mC\u001b[39m\u001b[35mT\u001b[39m\u001b[34mG\u001b[39m\u001b[32mA\u001b[39m\u001b[34mG\u001b[39m\u001b[32mA\u001b[39m\u001b[35mT\u001b[39m\u001b[33mC\u001b[39m\u001b[34mG\u001b[39m\u001b[32mA\u001b[39m\u001b[33mC\u001b[39m\u001b[35mT\u001b[39m\u001b[32mA\u001b[39m\u001b[34mG\u001b[39m\u001b[34mG\u001b[39m\u001b[35mT\u001b[39m\u001b[34mG\u001b[39m\u001b[34mG\u001b[39m\u001b[34mG\u001b[39m\u001b[33mC\u001b[39m\u001b[34mG\u001b[39m\u001b[34mG\u001b[39m\u001b[32mA\u001b[39m\u001b[35mT\u001b[39m\u001b[33mC\u001b[39m\u001b[33mC\u001b[39m\u001b[33mC\u001b[39m\u001b[34mG\u001b[39m\u001b[35mT\u001b[39m\u001b[33mC\u001b[39m\u001b[34mG\u001b[39m\u001b[35mT\u001b[39m\u001b[34mG\u001b[39m\u001b[35mT\u001b[39m\u001b[34mG\u001b[39m\u001b[35mT\u001b[39m\u001b[32mA\u001b[39m\u001b[35mT\u001b[39m\u001b[33mC\u001b[39m\u001b[33mC\u001b[39m\u001b[35mT\u001b[39m\u001b[34mG\u001b[39m\u001b[33mC\u001b[39m\u001b[32mA\u001b[39m\u001b[35mT\u001b[39m\u001b[33mC\u001b[39m\u001b[34mG\u001b[39m\u001b[32mA\u001b[39m\u001b[33mC\u001b[39m\u001b[34mG\u001b[39m\u001b[33mC\u001b[39m\u001b[34mG\u001b[39m\u001b[34mG\u001b[39m\u001b[35mT\u001b[39m\u001b[35mT\u001b[39m\u001b[35mT\u001b[39m\u001b[35mT\u001b[39m\u001b[35mT\u001b[39m\u001b[33mC\u001b[39m\u001b[35mT\u001b[39m\u001b[34mG\u001b[39m\u001b[33mC\u001b[39m\u001b[35mT\u001b[39m\u001b[35mT\u001b[39m\u001b[34mG\u001b[39m\u001b[34mG\u001b[39m\u001b[34mG\u001b[39m\u001b[35mT\u001b[39m\u001b[34mG\u001b[39m\u001b[34mG\u001b[39m\u001b[35mT\u001b[39m\u001b[32mA\u001b[39m\u001b[33mC\u001b[39m\u001b[34mG\u001b[39m\u001b[34mG\u001b[39m\u001b[34mG\u001b[39m\u001b[35mT\u001b[39m\u001b[33mC\u001b[39m\u001b[35mT\u001b[39m\u001b[34mG\u001b[39m\u001b[33mC\u001b[39m\u001b[34mG\u001b[39m\u001b[35mT\u001b[39m\u001b[32mA\u001b[39m\u001b[34mG\u001b[39m\u001b[32mA\u001b[39m\u001b[33mC\u001b[39m\u001b[33mC\u001b[39m\u001b[34mG\u001b[39m\u001b[32mA\u001b[39m\u001b[35mT\u001b[39m\u001b[35mT\u001b[39m\u001b[33mC\u001b[39m\u001b[34mG\u001b[39m\u001b[32mA\u001b[39m\u001b[34mG\u001b[39m\n",
      "\n",
      "Reverse: \t \t \u001b[33mC\u001b[39m\u001b[35mT\u001b[39m\u001b[33mC\u001b[39m\u001b[34mG\u001b[39m\u001b[32mA\u001b[39m\u001b[32mA\u001b[39m\u001b[35mT\u001b[39m\u001b[33mC\u001b[39m\u001b[34mG\u001b[39m\u001b[34mG\u001b[39m\u001b[35mT\u001b[39m\u001b[33mC\u001b[39m\u001b[35mT\u001b[39m\u001b[32mA\u001b[39m\u001b[33mC\u001b[39m\u001b[34mG\u001b[39m\u001b[33mC\u001b[39m\u001b[32mA\u001b[39m\u001b[34mG\u001b[39m\u001b[32mA\u001b[39m\u001b[33mC\u001b[39m\u001b[33mC\u001b[39m\u001b[33mC\u001b[39m\u001b[34mG\u001b[39m\u001b[35mT\u001b[39m\u001b[32mA\u001b[39m\u001b[33mC\u001b[39m\u001b[33mC\u001b[39m\u001b[32mA\u001b[39m\u001b[33mC\u001b[39m\u001b[33mC\u001b[39m\u001b[33mC\u001b[39m\u001b[32mA\u001b[39m\u001b[32mA\u001b[39m\u001b[34mG\u001b[39m\u001b[33mC\u001b[39m\u001b[32mA\u001b[39m\u001b[34mG\u001b[39m\u001b[32mA\u001b[39m\u001b[32mA\u001b[39m\u001b[32mA\u001b[39m\u001b[32mA\u001b[39m\u001b[32mA\u001b[39m\u001b[33mC\u001b[39m\u001b[33mC\u001b[39m\u001b[34mG\u001b[39m\u001b[33mC\u001b[39m\u001b[34mG\u001b[39m\u001b[35mT\u001b[39m\u001b[33mC\u001b[39m\u001b[34mG\u001b[39m\u001b[32mA\u001b[39m\u001b[35mT\u001b[39m\u001b[34mG\u001b[39m\u001b[33mC\u001b[39m\u001b[32mA\u001b[39m\u001b[34mG\u001b[39m\u001b[34mG\u001b[39m\u001b[32mA\u001b[39m\u001b[35mT\u001b[39m\u001b[32mA\u001b[39m\u001b[33mC\u001b[39m\u001b[32mA\u001b[39m\u001b[33mC\u001b[39m\u001b[32mA\u001b[39m\u001b[33mC\u001b[39m\u001b[34mG\u001b[39m\u001b[32mA\u001b[39m\u001b[33mC\u001b[39m\u001b[34mG\u001b[39m\u001b[34mG\u001b[39m\u001b[34mG\u001b[39m\u001b[32mA\u001b[39m\u001b[35mT\u001b[39m\u001b[33mC\u001b[39m\u001b[33mC\u001b[39m\u001b[34mG\u001b[39m\u001b[33mC\u001b[39m\u001b[33mC\u001b[39m\u001b[33mC\u001b[39m\u001b[32mA\u001b[39m\u001b[33mC\u001b[39m\u001b[33mC\u001b[39m\u001b[35mT\u001b[39m\u001b[32mA\u001b[39m\u001b[34mG\u001b[39m\u001b[35mT\u001b[39m\u001b[33mC\u001b[39m\u001b[34mG\u001b[39m\u001b[32mA\u001b[39m\u001b[35mT\u001b[39m\u001b[33mC\u001b[39m\u001b[35mT\u001b[39m\u001b[33mC\u001b[39m\u001b[32mA\u001b[39m\u001b[34mG\u001b[39m\u001b[34mG\u001b[39m\u001b[34mG\u001b[39m\u001b[35mT\u001b[39m\u001b[33mC\u001b[39m\n",
      "\t \t \t ||||||||||||||||||||||||||||||||||||||||||||||||||||||||||||||||||||||||||||||||||||||||||||||||||||\n",
      "Reverse Complement: \t \u001b[34mG\u001b[39m\u001b[32mA\u001b[39m\u001b[34mG\u001b[39m\u001b[33mC\u001b[39m\u001b[35mT\u001b[39m\u001b[35mT\u001b[39m\u001b[32mA\u001b[39m\u001b[34mG\u001b[39m\u001b[33mC\u001b[39m\u001b[33mC\u001b[39m\u001b[32mA\u001b[39m\u001b[34mG\u001b[39m\u001b[32mA\u001b[39m\u001b[35mT\u001b[39m\u001b[34mG\u001b[39m\u001b[33mC\u001b[39m\u001b[34mG\u001b[39m\u001b[35mT\u001b[39m\u001b[33mC\u001b[39m\u001b[35mT\u001b[39m\u001b[34mG\u001b[39m\u001b[34mG\u001b[39m\u001b[34mG\u001b[39m\u001b[33mC\u001b[39m\u001b[32mA\u001b[39m\u001b[35mT\u001b[39m\u001b[34mG\u001b[39m\u001b[34mG\u001b[39m\u001b[35mT\u001b[39m\u001b[34mG\u001b[39m\u001b[34mG\u001b[39m\u001b[34mG\u001b[39m\u001b[35mT\u001b[39m\u001b[35mT\u001b[39m\u001b[33mC\u001b[39m\u001b[34mG\u001b[39m\u001b[35mT\u001b[39m\u001b[33mC\u001b[39m\u001b[35mT\u001b[39m\u001b[35mT\u001b[39m\u001b[35mT\u001b[39m\u001b[35mT\u001b[39m\u001b[35mT\u001b[39m\u001b[34mG\u001b[39m\u001b[34mG\u001b[39m\u001b[33mC\u001b[39m\u001b[34mG\u001b[39m\u001b[33mC\u001b[39m\u001b[32mA\u001b[39m\u001b[34mG\u001b[39m\u001b[33mC\u001b[39m\u001b[35mT\u001b[39m\u001b[32mA\u001b[39m\u001b[33mC\u001b[39m\u001b[34mG\u001b[39m\u001b[35mT\u001b[39m\u001b[33mC\u001b[39m\u001b[33mC\u001b[39m\u001b[35mT\u001b[39m\u001b[32mA\u001b[39m\u001b[35mT\u001b[39m\u001b[34mG\u001b[39m\u001b[35mT\u001b[39m\u001b[34mG\u001b[39m\u001b[35mT\u001b[39m\u001b[34mG\u001b[39m\u001b[33mC\u001b[39m\u001b[35mT\u001b[39m\u001b[34mG\u001b[39m\u001b[33mC\u001b[39m\u001b[33mC\u001b[39m\u001b[33mC\u001b[39m\u001b[35mT\u001b[39m\u001b[32mA\u001b[39m\u001b[34mG\u001b[39m\u001b[34mG\u001b[39m\u001b[33mC\u001b[39m\u001b[34mG\u001b[39m\u001b[34mG\u001b[39m\u001b[34mG\u001b[39m\u001b[35mT\u001b[39m\u001b[34mG\u001b[39m\u001b[34mG\u001b[39m\u001b[32mA\u001b[39m\u001b[35mT\u001b[39m\u001b[33mC\u001b[39m\u001b[32mA\u001b[39m\u001b[34mG\u001b[39m\u001b[33mC\u001b[39m\u001b[35mT\u001b[39m\u001b[32mA\u001b[39m\u001b[34mG\u001b[39m\u001b[32mA\u001b[39m\u001b[34mG\u001b[39m\u001b[35mT\u001b[39m\u001b[33mC\u001b[39m\u001b[33mC\u001b[39m\u001b[33mC\u001b[39m\u001b[32mA\u001b[39m\u001b[34mG\u001b[39m\n"
     ]
    }
   ],
   "source": [
    "# sources\n",
    "# - https://www.bioinformatics.org/sms2/random_dna.html\n",
    "\n",
    "# include packages\n",
    "from tkinter import *\n",
    "from tkinter.ttk import *\n",
    "from ExternalPackages.TerminalColors import TerminalColors\n",
    "import Part01.A_Groundwork as Groundwork\n",
    "\n",
    "mySequenceInput      = \"ctgggactctagctgatccacccgcctagggcagcacacataggacgtagctgcgccaaaaagacgaacccaccatgcccagacgcatctggctaagctc\"\n",
    "mySequence           = mySequenceInput.upper()\n",
    "myNumberOfSOIs       = 3\n",
    "mySOI                = [\"\"] * myNumberOfSOIs\n",
    "myColors             = [\"\"] * myNumberOfSOIs\n",
    "mySequenceColored    = [\"\"] * myNumberOfSOIs\n",
    "myColorsDNA          = [TerminalColors.Green, TerminalColors.Yellow, TerminalColors.Blue, TerminalColors.Magenta]\n",
    "myDefaultColor       = TerminalColors.Default\n",
    "\n",
    "returnSeq = Groundwork.ComplRev(mySequence,\"Sequence\")\n",
    "mySequenceColoredDNA = Groundwork.ColorDNA(returnSeq, myColorsDNA, myDefaultColor)\n",
    "print(\"Sequence: \\t \\t\", mySequenceColoredDNA, end = '\\n')\n",
    "print(\"\\t \\t \\t\", ''.join('|' for i in returnSeq), end = '\\n')\n",
    "\n",
    "returnSeq = Groundwork.ComplRev(mySequence,\"SequenceComplement\")\n",
    "mySequenceColoredDNA = Groundwork.ColorDNA(returnSeq, myColorsDNA, myDefaultColor)\n",
    "print(\"Complement: \\t \\t\", mySequenceColoredDNA, end = '\\n')\n",
    "print(\"\")\n",
    "\n",
    "returnSeq = Groundwork.ComplRev(mySequence,\"SequenceReverse\")\n",
    "mySequenceColoredDNA = Groundwork.ColorDNA(returnSeq, myColorsDNA, myDefaultColor)\n",
    "print(\"Reverse: \\t \\t\", mySequenceColoredDNA, end = '\\n')\n",
    "print(\"\\t \\t \\t\", ''.join('|' for i in returnSeq), end = '\\n')\n",
    "\n",
    "returnSeq = Groundwork.ComplRev(mySequence,\"SequenceReverseComplement\")\n",
    "mySequenceColoredDNA = Groundwork.ColorDNA(returnSeq, myColorsDNA, myDefaultColor)\n",
    "print(\"Reverse Complement: \\t\", mySequenceColoredDNA, end = '\\n')"
   ]
  },
  {
   "attachments": {},
   "cell_type": "markdown",
   "id": "d75ca150",
   "metadata": {},
   "source": [
    "## 1.3 <a name=\"IdentOfSOIsInTargetSeq\">Identification Sequences of Interest within a Target Sequence</a>"
   ]
  },
  {
   "attachments": {},
   "cell_type": "markdown",
   "id": "43394bcd",
   "metadata": {},
   "source": [
    "Goal: To identify and mark the the position of a SOI (mySOI) in a given target sequence (mySequence). The return \"positionsSOI\" shall be\n",
    "1. 1 if the respective base at position ii of the sequence \"mySequence\" is part of mySOI\n",
    "2. \\>1 if two mySOI-regions overlap and\n",
    "3. 0 otherwise."
   ]
  },
  {
   "cell_type": "code",
   "execution_count": 3,
   "id": "b346d2bd",
   "metadata": {},
   "outputs": [
    {
     "name": "stdout",
     "output_type": "stream",
     "text": [
      "mySequence : \t \t\u001b[39mC\u001b[39m\u001b[39mT\u001b[39m\u001b[32mG\u001b[39m\u001b[32mG\u001b[39m\u001b[32mG\u001b[39m\u001b[39mA\u001b[39m\u001b[39mC\u001b[39m\u001b[39mT\u001b[39m\u001b[39mC\u001b[39m\u001b[39mT\u001b[39m\u001b[39mA\u001b[39m\u001b[39mG\u001b[39m\u001b[39mC\u001b[39m\u001b[39mT\u001b[39m\u001b[39mG\u001b[39m\u001b[39mA\u001b[39m\u001b[39mT\u001b[39m\u001b[39mC\u001b[39m\u001b[39mC\u001b[39m\u001b[39mA\u001b[39m\u001b[39mC\u001b[39m\u001b[39mC\u001b[39m\u001b[39mC\u001b[39m\u001b[39mG\u001b[39m\u001b[39mC\u001b[39m\u001b[39mC\u001b[39m\u001b[39mT\u001b[39m\u001b[39mA\u001b[39m\u001b[32mG\u001b[39m\u001b[32mG\u001b[39m\u001b[32mG\u001b[39m\u001b[39mC\u001b[39m\u001b[39mA\u001b[39m\u001b[39mG\u001b[39m\u001b[39mC\u001b[39m\u001b[39mA\u001b[39m\u001b[39mC\u001b[39m\u001b[39mA\u001b[39m\u001b[39mC\u001b[39m\u001b[39mA\u001b[39m\u001b[39mT\u001b[39m\u001b[39mA\u001b[39m\u001b[32mG\u001b[39m\u001b[32mG\u001b[39m\u001b[39mA\u001b[39m\u001b[39mC\u001b[39m\u001b[39mG\u001b[39m\u001b[39mT\u001b[39m\u001b[39mA\u001b[39m\u001b[39mG\u001b[39m\u001b[39mC\u001b[39m\u001b[39mT\u001b[39m\u001b[39mG\u001b[39m\u001b[39mC\u001b[39m\u001b[39mG\u001b[39m\u001b[39mC\u001b[39m\u001b[39mC\u001b[39m\u001b[39mA\u001b[39m\u001b[39mA\u001b[39m\u001b[39mA\u001b[39m\u001b[39mA\u001b[39m\u001b[39mA\u001b[39m\u001b[39mG\u001b[39m\u001b[39mA\u001b[39m\u001b[39mC\u001b[39m\u001b[39mG\u001b[39m\u001b[39mA\u001b[39m\u001b[39mA\u001b[39m\u001b[39mC\u001b[39m\u001b[39mC\u001b[39m\u001b[39mC\u001b[39m\u001b[39mA\u001b[39m\u001b[39mC\u001b[39m\u001b[39mC\u001b[39m\u001b[39mA\u001b[39m\u001b[39mT\u001b[39m\u001b[39mG\u001b[39m\u001b[39mC\u001b[39m\u001b[39mC\u001b[39m\u001b[39mC\u001b[39m\u001b[39mA\u001b[39m\u001b[39mG\u001b[39m\u001b[39mA\u001b[39m\u001b[39mC\u001b[39m\u001b[39mG\u001b[39m\u001b[39mC\u001b[39m\u001b[39mA\u001b[39m\u001b[39mT\u001b[39m\u001b[39mC\u001b[39m\u001b[39mT\u001b[39m\u001b[32mG\u001b[39m\u001b[32mG\u001b[39m\u001b[39mC\u001b[39m\u001b[39mT\u001b[39m\u001b[39mA\u001b[39m\u001b[39mA\u001b[39m\u001b[39mG\u001b[39m\u001b[39mC\u001b[39m\u001b[39mT\u001b[39m\u001b[39mC\u001b[39m\n",
      "mySOIPositions: \t\u001b[39m0\u001b[39m\u001b[39m0\u001b[39m\u001b[32m1\u001b[39m\u001b[32m2\u001b[39m\u001b[32m1\u001b[39m\u001b[39m0\u001b[39m\u001b[39m0\u001b[39m\u001b[39m0\u001b[39m\u001b[39m0\u001b[39m\u001b[39m0\u001b[39m\u001b[39m0\u001b[39m\u001b[39m0\u001b[39m\u001b[39m0\u001b[39m\u001b[39m0\u001b[39m\u001b[39m0\u001b[39m\u001b[39m0\u001b[39m\u001b[39m0\u001b[39m\u001b[39m0\u001b[39m\u001b[39m0\u001b[39m\u001b[39m0\u001b[39m\u001b[39m0\u001b[39m\u001b[39m0\u001b[39m\u001b[39m0\u001b[39m\u001b[39m0\u001b[39m\u001b[39m0\u001b[39m\u001b[39m0\u001b[39m\u001b[39m0\u001b[39m\u001b[39m0\u001b[39m\u001b[32m1\u001b[39m\u001b[32m2\u001b[39m\u001b[32m1\u001b[39m\u001b[39m0\u001b[39m\u001b[39m0\u001b[39m\u001b[39m0\u001b[39m\u001b[39m0\u001b[39m\u001b[39m0\u001b[39m\u001b[39m0\u001b[39m\u001b[39m0\u001b[39m\u001b[39m0\u001b[39m\u001b[39m0\u001b[39m\u001b[39m0\u001b[39m\u001b[39m0\u001b[39m\u001b[32m1\u001b[39m\u001b[32m1\u001b[39m\u001b[39m0\u001b[39m\u001b[39m0\u001b[39m\u001b[39m0\u001b[39m\u001b[39m0\u001b[39m\u001b[39m0\u001b[39m\u001b[39m0\u001b[39m\u001b[39m0\u001b[39m\u001b[39m0\u001b[39m\u001b[39m0\u001b[39m\u001b[39m0\u001b[39m\u001b[39m0\u001b[39m\u001b[39m0\u001b[39m\u001b[39m0\u001b[39m\u001b[39m0\u001b[39m\u001b[39m0\u001b[39m\u001b[39m0\u001b[39m\u001b[39m0\u001b[39m\u001b[39m0\u001b[39m\u001b[39m0\u001b[39m\u001b[39m0\u001b[39m\u001b[39m0\u001b[39m\u001b[39m0\u001b[39m\u001b[39m0\u001b[39m\u001b[39m0\u001b[39m\u001b[39m0\u001b[39m\u001b[39m0\u001b[39m\u001b[39m0\u001b[39m\u001b[39m0\u001b[39m\u001b[39m0\u001b[39m\u001b[39m0\u001b[39m\u001b[39m0\u001b[39m\u001b[39m0\u001b[39m\u001b[39m0\u001b[39m\u001b[39m0\u001b[39m\u001b[39m0\u001b[39m\u001b[39m0\u001b[39m\u001b[39m0\u001b[39m\u001b[39m0\u001b[39m\u001b[39m0\u001b[39m\u001b[39m0\u001b[39m\u001b[39m0\u001b[39m\u001b[39m0\u001b[39m\u001b[39m0\u001b[39m\u001b[39m0\u001b[39m\u001b[39m0\u001b[39m\u001b[39m0\u001b[39m\u001b[32m1\u001b[39m\u001b[32m1\u001b[39m\u001b[39m0\u001b[39m\u001b[39m0\u001b[39m\u001b[39m0\u001b[39m\u001b[39m0\u001b[39m\u001b[39m0\u001b[39m\u001b[39m0\u001b[39m\u001b[39m0\u001b[39m\u001b[39m0\u001b[39m\n"
     ]
    }
   ],
   "source": [
    "# sources\n",
    "# - https://www.bioinformatics.org/sms2/random_dna.html\n",
    "\n",
    "# include packages\n",
    "from ExternalPackages.TerminalColors import TerminalColors\n",
    "import Part01.A_Groundwork as Groundwork\n",
    "\n",
    "mySequenceInput      = \"ctgggactctagctgatccacccgcctagggcagcacacataggacgtagctgcgccaaaaagacgaacccaccatgcccagacgcatctggctaagctc\"\n",
    "mySequence           = mySequenceInput.upper()\n",
    "mySOI                = \"GG\"\n",
    "\n",
    "myCount, mySOIPositions = Groundwork.SOIPositions(mySequence, mySOI)\n",
    "myColor                 = TerminalColors.Green\n",
    "myDefaultColor          = TerminalColors.Default\n",
    "\n",
    "mySequenceColored       = Groundwork.ColorTheSeq(mySequence, mySOIPositions, myColor, myDefaultColor)\n",
    "mySOIPositionsColored   = Groundwork.ColorTheSeq(mySOIPositions, mySOIPositions, myColor, myDefaultColor)\n",
    "\n",
    "print(\"mySequence : \\t \\t\" + mySequenceColored, end = \"\\n\")\n",
    "print(\"mySOIPositions: \\t\" + mySOIPositionsColored, end = '\\n')"
   ]
  },
  {
   "cell_type": "code",
   "execution_count": null,
   "id": "9136c254",
   "metadata": {},
   "outputs": [],
   "source": []
  },
  {
   "attachments": {},
   "cell_type": "markdown",
   "id": "f5278c53",
   "metadata": {},
   "source": [
    "## 1.4 <a name=\"IdentMultipleOfSOIsInTargetSeq\">Identification of Multiple Sequences of Interest within a Target Sequence</a>"
   ]
  },
  {
   "attachments": {},
   "cell_type": "markdown",
   "id": "d985eafb",
   "metadata": {},
   "source": [
    "Goal:\n",
    "\n",
    "To generalize the algorithm above. The positions of 3 given SOIs (mySOIs) shall be\n",
    "1. identified in a target sequence (mySequence),\n",
    "2. labelled individually (green, blue and yellow) and\n",
    "3. a character of the target sequence shall be colored in red, if there is an overlap between the same or different SOIs."
   ]
  },
  {
   "cell_type": "code",
   "execution_count": 4,
   "id": "55b6f4ba",
   "metadata": {},
   "outputs": [
    {
     "name": "stdout",
     "output_type": "stream",
     "text": [
      "mySOI  0 : \t \t  \u001b[39mC\u001b[39m\u001b[39mT\u001b[39m\u001b[39mG\u001b[39m\u001b[39mG\u001b[39m\u001b[39mG\u001b[39m\u001b[39mA\u001b[39m\u001b[39mC\u001b[39m\u001b[39mT\u001b[39m\u001b[39mC\u001b[39m\u001b[39mT\u001b[39m\u001b[39mA\u001b[39m\u001b[39mG\u001b[39m\u001b[39mC\u001b[39m\u001b[39mT\u001b[39m\u001b[39mG\u001b[39m\u001b[39mA\u001b[39m\u001b[39mT\u001b[39m\u001b[39mC\u001b[39m\u001b[39mC\u001b[39m\u001b[39mA\u001b[39m\u001b[39mC\u001b[39m\u001b[39mC\u001b[39m\u001b[39mC\u001b[39m\u001b[39mG\u001b[39m\u001b[39mC\u001b[39m\u001b[39mC\u001b[39m\u001b[39mT\u001b[39m\u001b[32mA\u001b[39m\u001b[32mG\u001b[39m\u001b[32mG\u001b[39m\u001b[39mG\u001b[39m\u001b[39mC\u001b[39m\u001b[39mA\u001b[39m\u001b[39mG\u001b[39m\u001b[39mC\u001b[39m\u001b[39mA\u001b[39m\u001b[39mC\u001b[39m\u001b[39mA\u001b[39m\u001b[39mC\u001b[39m\u001b[39mA\u001b[39m\u001b[39mT\u001b[39m\u001b[32mA\u001b[39m\u001b[32mG\u001b[39m\u001b[32mG\u001b[39m\u001b[39mA\u001b[39m\u001b[39mC\u001b[39m\u001b[39mG\u001b[39m\u001b[39mT\u001b[39m\u001b[39mA\u001b[39m\u001b[39mG\u001b[39m\u001b[39mC\u001b[39m\u001b[39mT\u001b[39m\u001b[39mG\u001b[39m\u001b[39mC\u001b[39m\u001b[39mG\u001b[39m\u001b[39mC\u001b[39m\u001b[39mC\u001b[39m\u001b[39mA\u001b[39m\u001b[39mA\u001b[39m\u001b[39mA\u001b[39m\u001b[39mA\u001b[39m\u001b[39mA\u001b[39m\u001b[39mG\u001b[39m\u001b[39mA\u001b[39m\u001b[39mC\u001b[39m\u001b[39mG\u001b[39m\u001b[39mA\u001b[39m\u001b[39mA\u001b[39m\u001b[39mC\u001b[39m\u001b[39mC\u001b[39m\u001b[39mC\u001b[39m\u001b[39mA\u001b[39m\u001b[39mC\u001b[39m\u001b[39mC\u001b[39m\u001b[39mA\u001b[39m\u001b[39mT\u001b[39m\u001b[39mG\u001b[39m\u001b[39mC\u001b[39m\u001b[39mC\u001b[39m\u001b[39mC\u001b[39m\u001b[39mA\u001b[39m\u001b[39mG\u001b[39m\u001b[39mA\u001b[39m\u001b[39mC\u001b[39m\u001b[39mG\u001b[39m\u001b[39mC\u001b[39m\u001b[39mA\u001b[39m\u001b[39mT\u001b[39m\u001b[39mC\u001b[39m\u001b[39mT\u001b[39m\u001b[39mG\u001b[39m\u001b[39mG\u001b[39m\u001b[39mC\u001b[39m\u001b[39mT\u001b[39m\u001b[39mA\u001b[39m\u001b[39mA\u001b[39m\u001b[39mG\u001b[39m\u001b[39mC\u001b[39m\u001b[39mT\u001b[39m\u001b[39mC\u001b[39m\n",
      "mySOI  1 : \t \t  \u001b[39mC\u001b[39m\u001b[39mT\u001b[39m\u001b[39mG\u001b[39m\u001b[39mG\u001b[39m\u001b[34mG\u001b[39m\u001b[34mA\u001b[39m\u001b[34mC\u001b[39m\u001b[39mT\u001b[39m\u001b[39mC\u001b[39m\u001b[39mT\u001b[39m\u001b[39mA\u001b[39m\u001b[39mG\u001b[39m\u001b[39mC\u001b[39m\u001b[39mT\u001b[39m\u001b[39mG\u001b[39m\u001b[39mA\u001b[39m\u001b[39mT\u001b[39m\u001b[39mC\u001b[39m\u001b[39mC\u001b[39m\u001b[39mA\u001b[39m\u001b[39mC\u001b[39m\u001b[39mC\u001b[39m\u001b[39mC\u001b[39m\u001b[39mG\u001b[39m\u001b[39mC\u001b[39m\u001b[39mC\u001b[39m\u001b[39mT\u001b[39m\u001b[39mA\u001b[39m\u001b[39mG\u001b[39m\u001b[39mG\u001b[39m\u001b[39mG\u001b[39m\u001b[39mC\u001b[39m\u001b[39mA\u001b[39m\u001b[39mG\u001b[39m\u001b[39mC\u001b[39m\u001b[39mA\u001b[39m\u001b[39mC\u001b[39m\u001b[39mA\u001b[39m\u001b[39mC\u001b[39m\u001b[39mA\u001b[39m\u001b[39mT\u001b[39m\u001b[39mA\u001b[39m\u001b[39mG\u001b[39m\u001b[34mG\u001b[39m\u001b[34mA\u001b[39m\u001b[34mC\u001b[39m\u001b[39mG\u001b[39m\u001b[39mT\u001b[39m\u001b[39mA\u001b[39m\u001b[39mG\u001b[39m\u001b[39mC\u001b[39m\u001b[39mT\u001b[39m\u001b[39mG\u001b[39m\u001b[39mC\u001b[39m\u001b[39mG\u001b[39m\u001b[39mC\u001b[39m\u001b[39mC\u001b[39m\u001b[39mA\u001b[39m\u001b[39mA\u001b[39m\u001b[39mA\u001b[39m\u001b[39mA\u001b[39m\u001b[39mA\u001b[39m\u001b[34mG\u001b[39m\u001b[34mA\u001b[39m\u001b[34mC\u001b[39m\u001b[39mG\u001b[39m\u001b[39mA\u001b[39m\u001b[39mA\u001b[39m\u001b[39mC\u001b[39m\u001b[39mC\u001b[39m\u001b[39mC\u001b[39m\u001b[39mA\u001b[39m\u001b[39mC\u001b[39m\u001b[39mC\u001b[39m\u001b[39mA\u001b[39m\u001b[39mT\u001b[39m\u001b[39mG\u001b[39m\u001b[39mC\u001b[39m\u001b[39mC\u001b[39m\u001b[39mC\u001b[39m\u001b[39mA\u001b[39m\u001b[34mG\u001b[39m\u001b[34mA\u001b[39m\u001b[34mC\u001b[39m\u001b[39mG\u001b[39m\u001b[39mC\u001b[39m\u001b[39mA\u001b[39m\u001b[39mT\u001b[39m\u001b[39mC\u001b[39m\u001b[39mT\u001b[39m\u001b[39mG\u001b[39m\u001b[39mG\u001b[39m\u001b[39mC\u001b[39m\u001b[39mT\u001b[39m\u001b[39mA\u001b[39m\u001b[39mA\u001b[39m\u001b[39mG\u001b[39m\u001b[39mC\u001b[39m\u001b[39mT\u001b[39m\u001b[39mC\u001b[39m\n",
      "mySOI  2 : \t \t  \u001b[39mC\u001b[39m\u001b[39mT\u001b[39m\u001b[39mG\u001b[39m\u001b[39mG\u001b[39m\u001b[39mG\u001b[39m\u001b[39mA\u001b[39m\u001b[39mC\u001b[39m\u001b[39mT\u001b[39m\u001b[33mC\u001b[39m\u001b[33mT\u001b[39m\u001b[33mA\u001b[39m\u001b[33mG\u001b[39m\u001b[39mC\u001b[39m\u001b[39mT\u001b[39m\u001b[39mG\u001b[39m\u001b[39mA\u001b[39m\u001b[39mT\u001b[39m\u001b[39mC\u001b[39m\u001b[39mC\u001b[39m\u001b[39mA\u001b[39m\u001b[39mC\u001b[39m\u001b[39mC\u001b[39m\u001b[39mC\u001b[39m\u001b[39mG\u001b[39m\u001b[39mC\u001b[39m\u001b[33mC\u001b[39m\u001b[33mT\u001b[39m\u001b[33mA\u001b[39m\u001b[33mG\u001b[39m\u001b[39mG\u001b[39m\u001b[39mG\u001b[39m\u001b[39mC\u001b[39m\u001b[39mA\u001b[39m\u001b[39mG\u001b[39m\u001b[39mC\u001b[39m\u001b[39mA\u001b[39m\u001b[39mC\u001b[39m\u001b[39mA\u001b[39m\u001b[39mC\u001b[39m\u001b[39mA\u001b[39m\u001b[39mT\u001b[39m\u001b[39mA\u001b[39m\u001b[39mG\u001b[39m\u001b[39mG\u001b[39m\u001b[39mA\u001b[39m\u001b[39mC\u001b[39m\u001b[39mG\u001b[39m\u001b[39mT\u001b[39m\u001b[39mA\u001b[39m\u001b[39mG\u001b[39m\u001b[39mC\u001b[39m\u001b[39mT\u001b[39m\u001b[39mG\u001b[39m\u001b[39mC\u001b[39m\u001b[39mG\u001b[39m\u001b[39mC\u001b[39m\u001b[39mC\u001b[39m\u001b[39mA\u001b[39m\u001b[39mA\u001b[39m\u001b[39mA\u001b[39m\u001b[39mA\u001b[39m\u001b[39mA\u001b[39m\u001b[39mG\u001b[39m\u001b[39mA\u001b[39m\u001b[39mC\u001b[39m\u001b[39mG\u001b[39m\u001b[39mA\u001b[39m\u001b[39mA\u001b[39m\u001b[39mC\u001b[39m\u001b[39mC\u001b[39m\u001b[39mC\u001b[39m\u001b[39mA\u001b[39m\u001b[39mC\u001b[39m\u001b[39mC\u001b[39m\u001b[39mA\u001b[39m\u001b[39mT\u001b[39m\u001b[39mG\u001b[39m\u001b[39mC\u001b[39m\u001b[39mC\u001b[39m\u001b[39mC\u001b[39m\u001b[39mA\u001b[39m\u001b[39mG\u001b[39m\u001b[39mA\u001b[39m\u001b[39mC\u001b[39m\u001b[39mG\u001b[39m\u001b[39mC\u001b[39m\u001b[39mA\u001b[39m\u001b[39mT\u001b[39m\u001b[39mC\u001b[39m\u001b[39mT\u001b[39m\u001b[39mG\u001b[39m\u001b[39mG\u001b[39m\u001b[39mC\u001b[39m\u001b[39mT\u001b[39m\u001b[39mA\u001b[39m\u001b[39mA\u001b[39m\u001b[39mG\u001b[39m\u001b[39mC\u001b[39m\u001b[39mT\u001b[39m\u001b[39mC\u001b[39m\n",
      "------------------------------------------------------------------------------------------------------------------------------\n",
      "mySOIs (total): \t  \u001b[39mC\u001b[39m\u001b[39mT\u001b[39m\u001b[39mG\u001b[39m\u001b[39mG\u001b[39m\u001b[34mG\u001b[39m\u001b[34mA\u001b[39m\u001b[34mC\u001b[39m\u001b[39mT\u001b[39m\u001b[33mC\u001b[39m\u001b[33mT\u001b[39m\u001b[33mA\u001b[39m\u001b[33mG\u001b[39m\u001b[39mC\u001b[39m\u001b[39mT\u001b[39m\u001b[39mG\u001b[39m\u001b[39mA\u001b[39m\u001b[39mT\u001b[39m\u001b[39mC\u001b[39m\u001b[39mC\u001b[39m\u001b[39mA\u001b[39m\u001b[39mC\u001b[39m\u001b[39mC\u001b[39m\u001b[39mC\u001b[39m\u001b[39mG\u001b[39m\u001b[39mC\u001b[39m\u001b[33mC\u001b[39m\u001b[33mT\u001b[39m\u001b[31mA\u001b[39m\u001b[31mG\u001b[39m\u001b[32mG\u001b[39m\u001b[39mG\u001b[39m\u001b[39mC\u001b[39m\u001b[39mA\u001b[39m\u001b[39mG\u001b[39m\u001b[39mC\u001b[39m\u001b[39mA\u001b[39m\u001b[39mC\u001b[39m\u001b[39mA\u001b[39m\u001b[39mC\u001b[39m\u001b[39mA\u001b[39m\u001b[39mT\u001b[39m\u001b[32mA\u001b[39m\u001b[32mG\u001b[39m\u001b[31mG\u001b[39m\u001b[34mA\u001b[39m\u001b[34mC\u001b[39m\u001b[39mG\u001b[39m\u001b[39mT\u001b[39m\u001b[39mA\u001b[39m\u001b[39mG\u001b[39m\u001b[39mC\u001b[39m\u001b[39mT\u001b[39m\u001b[39mG\u001b[39m\u001b[39mC\u001b[39m\u001b[39mG\u001b[39m\u001b[39mC\u001b[39m\u001b[39mC\u001b[39m\u001b[39mA\u001b[39m\u001b[39mA\u001b[39m\u001b[39mA\u001b[39m\u001b[39mA\u001b[39m\u001b[39mA\u001b[39m\u001b[34mG\u001b[39m\u001b[34mA\u001b[39m\u001b[34mC\u001b[39m\u001b[39mG\u001b[39m\u001b[39mA\u001b[39m\u001b[39mA\u001b[39m\u001b[39mC\u001b[39m\u001b[39mC\u001b[39m\u001b[39mC\u001b[39m\u001b[39mA\u001b[39m\u001b[39mC\u001b[39m\u001b[39mC\u001b[39m\u001b[39mA\u001b[39m\u001b[39mT\u001b[39m\u001b[39mG\u001b[39m\u001b[39mC\u001b[39m\u001b[39mC\u001b[39m\u001b[39mC\u001b[39m\u001b[39mA\u001b[39m\u001b[34mG\u001b[39m\u001b[34mA\u001b[39m\u001b[34mC\u001b[39m\u001b[39mG\u001b[39m\u001b[39mC\u001b[39m\u001b[39mA\u001b[39m\u001b[39mT\u001b[39m\u001b[39mC\u001b[39m\u001b[39mT\u001b[39m\u001b[39mG\u001b[39m\u001b[39mG\u001b[39m\u001b[39mC\u001b[39m\u001b[39mT\u001b[39m\u001b[39mA\u001b[39m\u001b[39mA\u001b[39m\u001b[39mG\u001b[39m\u001b[39mC\u001b[39m\u001b[39mT\u001b[39m\u001b[39mC\u001b[39m\n",
      "mySOIPositions (total) :  \u001b[39m0\u001b[39m\u001b[39m0\u001b[39m\u001b[39m0\u001b[39m\u001b[39m0\u001b[39m\u001b[34m1\u001b[39m\u001b[34m1\u001b[39m\u001b[34m1\u001b[39m\u001b[39m0\u001b[39m\u001b[33m1\u001b[39m\u001b[33m1\u001b[39m\u001b[33m1\u001b[39m\u001b[33m1\u001b[39m\u001b[39m0\u001b[39m\u001b[39m0\u001b[39m\u001b[39m0\u001b[39m\u001b[39m0\u001b[39m\u001b[39m0\u001b[39m\u001b[39m0\u001b[39m\u001b[39m0\u001b[39m\u001b[39m0\u001b[39m\u001b[39m0\u001b[39m\u001b[39m0\u001b[39m\u001b[39m0\u001b[39m\u001b[39m0\u001b[39m\u001b[39m0\u001b[39m\u001b[33m1\u001b[39m\u001b[33m1\u001b[39m\u001b[31m2\u001b[39m\u001b[31m2\u001b[39m\u001b[32m1\u001b[39m\u001b[39m0\u001b[39m\u001b[39m0\u001b[39m\u001b[39m0\u001b[39m\u001b[39m0\u001b[39m\u001b[39m0\u001b[39m\u001b[39m0\u001b[39m\u001b[39m0\u001b[39m\u001b[39m0\u001b[39m\u001b[39m0\u001b[39m\u001b[39m0\u001b[39m\u001b[39m0\u001b[39m\u001b[32m1\u001b[39m\u001b[32m1\u001b[39m\u001b[31m2\u001b[39m\u001b[34m1\u001b[39m\u001b[34m1\u001b[39m\u001b[39m0\u001b[39m\u001b[39m0\u001b[39m\u001b[39m0\u001b[39m\u001b[39m0\u001b[39m\u001b[39m0\u001b[39m\u001b[39m0\u001b[39m\u001b[39m0\u001b[39m\u001b[39m0\u001b[39m\u001b[39m0\u001b[39m\u001b[39m0\u001b[39m\u001b[39m0\u001b[39m\u001b[39m0\u001b[39m\u001b[39m0\u001b[39m\u001b[39m0\u001b[39m\u001b[39m0\u001b[39m\u001b[39m0\u001b[39m\u001b[34m1\u001b[39m\u001b[34m1\u001b[39m\u001b[34m1\u001b[39m\u001b[39m0\u001b[39m\u001b[39m0\u001b[39m\u001b[39m0\u001b[39m\u001b[39m0\u001b[39m\u001b[39m0\u001b[39m\u001b[39m0\u001b[39m\u001b[39m0\u001b[39m\u001b[39m0\u001b[39m\u001b[39m0\u001b[39m\u001b[39m0\u001b[39m\u001b[39m0\u001b[39m\u001b[39m0\u001b[39m\u001b[39m0\u001b[39m\u001b[39m0\u001b[39m\u001b[39m0\u001b[39m\u001b[39m0\u001b[39m\u001b[34m1\u001b[39m\u001b[34m1\u001b[39m\u001b[34m1\u001b[39m\u001b[39m0\u001b[39m\u001b[39m0\u001b[39m\u001b[39m0\u001b[39m\u001b[39m0\u001b[39m\u001b[39m0\u001b[39m\u001b[39m0\u001b[39m\u001b[39m0\u001b[39m\u001b[39m0\u001b[39m\u001b[39m0\u001b[39m\u001b[39m0\u001b[39m\u001b[39m0\u001b[39m\u001b[39m0\u001b[39m\u001b[39m0\u001b[39m\u001b[39m0\u001b[39m\u001b[39m0\u001b[39m\u001b[39m0\u001b[39m\n"
     ]
    }
   ],
   "source": [
    "# include packages\n",
    "from ExternalPackages.TerminalColors import TerminalColors\n",
    "import Part01.A_Groundwork as Groundwork\n",
    "\n",
    "myNumberOfSOIs       = 3\n",
    "mySOI                = [\"\"] * myNumberOfSOIs\n",
    "myCount              = [0]  * myNumberOfSOIs\n",
    "mySOIPositions       = [0]  * myNumberOfSOIs\n",
    "myColors             = [\"\"] * myNumberOfSOIs\n",
    "mySequenceColored    = [\"\"] * myNumberOfSOIs\n",
    "myColors             = [TerminalColors.Green, TerminalColors.Blue, TerminalColors.Yellow]\n",
    "myDefaultColor       = TerminalColors.Default\n",
    "myColorWarning       = TerminalColors.Red\n",
    "\n",
    "mySequenceInput      = \"ctgggactctagctgatccacccgcctagggcagcacacataggacgtagctgcgccaaaaagacgaacccaccatgcccagacgcatctggctaagctc\"\n",
    "mySequence           = mySequenceInput.upper()\n",
    "mySOI[0]             = \"AGG\"\n",
    "mySOI[1]             = \"GAC\"\n",
    "mySOI[2]             = \"CTAG\"\n",
    "\n",
    "for ii in range(myNumberOfSOIs):\n",
    "    myCount[ii], mySOIPositions[ii] = Groundwork.SOIPositions(mySequence, mySOI[ii])\n",
    "    mySequenceColored[ii]           = Groundwork.ColorTheSeq(mySequence, mySOIPositions[ii], myColors[ii], myDefaultColor)\n",
    "    print(\"mySOI \", ii, \": \\t \\t \", mySequenceColored[ii], end = '\\n')\n",
    "\n",
    "mySequenceColored, mySOIPositionsTotalColored, mySOIPositionsTotal = Groundwork.ColorTheSeqMerge(mySequence,\n",
    "                                                                                          mySOIPositions,\n",
    "                                                                                          myColors,\n",
    "                                                                                          myDefaultColor,\n",
    "                                                                                          myColorWarning)\n",
    "\n",
    "print(\"-\" * 126, end = '\\n')\n",
    "print(\"mySOIs (total): \\t \", mySequenceColored, end = '\\n')\n",
    "print(\"mySOIPositions (total) : \", mySOIPositionsTotalColored, end = '\\n')"
   ]
  },
  {
   "attachments": {},
   "cell_type": "markdown",
   "id": "e4da1085",
   "metadata": {},
   "source": [
    "# 2. <a name=\"SetUpSimpleGUI\">Set Up a simple Graphical User Interface (GUI)</a>"
   ]
  },
  {
   "attachments": {},
   "cell_type": "markdown",
   "id": "08632b7c",
   "metadata": {},
   "source": [
    "Goal:\n",
    "\n",
    "Set up a simple first draft of a Grahical User Interface (GUI) for future applications. The GUI should\n",
    "1. analyse a given DNA-Sequence with respect to 3 mySOIs and color code the respective positions in the target sequence\n",
    "2. save the results in an external file\n",
    "3. look fancy\n",
    "4. provide space for a next analysis step. Prefered is a tab-design of the GUI."
   ]
  },
  {
   "cell_type": "code",
   "execution_count": 5,
   "id": "2d9e8415",
   "metadata": {},
   "outputs": [
    {
     "name": "stdout",
     "output_type": "stream",
     "text": [
      "mySOIs (total): \t \t \u001b[39mC\u001b[39m\u001b[39mT\u001b[39m\u001b[39mG\u001b[39m\u001b[39mG\u001b[39m\u001b[34mG\u001b[39m\u001b[34mA\u001b[39m\u001b[34mC\u001b[39m\u001b[39mT\u001b[39m\u001b[33mC\u001b[39m\u001b[33mT\u001b[39m\u001b[33mA\u001b[39m\u001b[33mG\u001b[39m\u001b[39mC\u001b[39m\u001b[39mT\u001b[39m\u001b[39mG\u001b[39m\u001b[39mA\u001b[39m\u001b[39mT\u001b[39m\u001b[39mC\u001b[39m\u001b[39mC\u001b[39m\u001b[39mA\u001b[39m\u001b[39mC\u001b[39m\u001b[39mC\u001b[39m\u001b[39mC\u001b[39m\u001b[39mG\u001b[39m\u001b[39mC\u001b[39m\u001b[33mC\u001b[39m\u001b[33mT\u001b[39m\u001b[31mA\u001b[39m\u001b[31mG\u001b[39m\u001b[32mG\u001b[39m\u001b[39mG\u001b[39m\u001b[39mC\u001b[39m\u001b[39mA\u001b[39m\u001b[39mG\u001b[39m\u001b[39mC\u001b[39m\u001b[39mA\u001b[39m\u001b[39mC\u001b[39m\u001b[39mA\u001b[39m\n",
      "mySOIPositions (total) : \t \u001b[39m0\u001b[39m\u001b[39m0\u001b[39m\u001b[39m0\u001b[39m\u001b[39m0\u001b[39m\u001b[34m1\u001b[39m\u001b[34m1\u001b[39m\u001b[34m1\u001b[39m\u001b[39m0\u001b[39m\u001b[33m1\u001b[39m\u001b[33m1\u001b[39m\u001b[33m1\u001b[39m\u001b[33m1\u001b[39m\u001b[39m0\u001b[39m\u001b[39m0\u001b[39m\u001b[39m0\u001b[39m\u001b[39m0\u001b[39m\u001b[39m0\u001b[39m\u001b[39m0\u001b[39m\u001b[39m0\u001b[39m\u001b[39m0\u001b[39m\u001b[39m0\u001b[39m\u001b[39m0\u001b[39m\u001b[39m0\u001b[39m\u001b[39m0\u001b[39m\u001b[39m0\u001b[39m\u001b[33m1\u001b[39m\u001b[33m1\u001b[39m\u001b[31m2\u001b[39m\u001b[31m2\u001b[39m\u001b[32m1\u001b[39m\u001b[39m0\u001b[39m\u001b[39m0\u001b[39m\u001b[39m0\u001b[39m\u001b[39m0\u001b[39m\u001b[39m0\u001b[39m\u001b[39m0\u001b[39m\u001b[39m0\u001b[39m\u001b[39m0\u001b[39m\n"
     ]
    },
    {
     "data": {
      "image/png": "[encoded data removed]",
      "text/plain": [
       "<IPython.core.display.Image object>"
      ]
     },
     "metadata": {},
     "output_type": "display_data"
    }
   ],
   "source": [
    "# sources\n",
    "# https://github.com/rdbende/Azure-ttk-theme\n",
    "# https://stackoverflow.com/questions/18052395/array-of-buttons-in-python\n",
    "# https://www.tutorialspoint.com/how-to-save-the-contents-of-a-textbox-in-tkinter\n",
    "# https://www.plus2net.com/python/tkinter-grid.php\n",
    "# https://stackoverflow.com/questions/17251016/python-tkinter-how-to-change-the-windows-border-color\n",
    "# https://learn.microsoft.com/en-us/windows/win32/api/dwmapi/ne-dwmapi-dwmwindowattribute\n",
    "# https://www.tutorialspoint.com/how-to-change-the-color-of-certain-words-in-a-tkinter-text-widget\n",
    "# https://www.javatpoint.com/python-tkinter-text\n",
    "# https://www.pythontutorial.net/tkinter/tkinter-validation/\n",
    "# https://www.delftstack.com/howto/python-tkinter/tkinter-tabs/\n",
    "# https://stackoverflow.com/questions/53461066/python-showing-next-tab-by-pressing-a-button\n",
    "# https://stackoverflow.com/questions/70224682/is-there-a-way-in-tkinter-to-left-align-tabs-notebook\n",
    "\n",
    "\n",
    "# convert BCN-image to .ico in order to make image applicable as a logo for the window frame\n",
    "from PIL import Image\n",
    "logo = Image.open(\"./icons/logoBCNicon.png\")\n",
    "logo.save(\"./icons/logoBCNicon.ico\", format = 'ICO')\n",
    "\n",
    "\n",
    "# include packages\n",
    "from tkinter import *\n",
    "from tkinter.ttk import *\n",
    "import shutil\n",
    "import tkinter as tk\n",
    "from tkinter import ttk\n",
    "from PIL import Image, ImageTk\n",
    "import TKinterModernThemes as TKMT\n",
    "import Part01.A_Groundwork as Groundwork\n",
    "import Part01.B_SimpleTabbedGUI as SimpleTabbedGUI\n",
    "from ExternalPackages.TerminalColors import TerminalColors\n",
    "from tkinter import Text, END\n",
    "import numpy as np\n",
    "import time\n",
    "from IPython.display import Image as ImageIPython\n",
    "\n",
    "\n",
    "# define colors and constants\n",
    "myForegroundColor          = \"#4c87c8\"\n",
    "myBackgroundColor          = \"#000a34\"\n",
    "dictSequence               = {}\n",
    "mySOI                      = []\n",
    "mySequenceInput            = \"ctgggactctagctgatccacccgcctagggcagcaca\"\n",
    "dictSequence[\"mySequence\"] = mySequenceInput.upper()\n",
    "dictSequence[\"mySOI01\"]    = \"AGG\"\n",
    "dictSequence[\"mySOI02\"]    = \"GAC\"\n",
    "dictSequence[\"mySOI03\"]    = \"CTAG\"\n",
    "myInput                    = [\"\"] * len(dictSequence)\n",
    "myNumberLabelBlank         = 30\n",
    "myLabelBlank               = [\"\"] * myNumberLabelBlank\n",
    "myColors                   = [TerminalColors.Green, TerminalColors.Blue, TerminalColors.Yellow]\n",
    "myDefaultColor             = TerminalColors.Default\n",
    "myColorWarning             = TerminalColors.Red\n",
    "myDefaultColorTextBox      = \"white\"\n",
    "myColorWarningTextBox      = \"red\"\n",
    "myColorsTextBox            = [\"green\", \"blue\", \"yellow\"]\n",
    "\n",
    "\n",
    "# define some functions which are hard to migrate to B_SimpleTabbedGUI.py (due to run-command)\n",
    "def AnalyseSeq(myText, myNumberOfSOIs, mySequence, mySOIPositions, myColorsTextBox,\n",
    "               myDefaultColorTextBox, myColorWarningTextBox, myBackgroundColor, tab1, myColumnCount):\n",
    "    %run \"./Part01Data/02_Sequence.py\"\n",
    "    for ii in range(myNumberOfSOIs):\n",
    "        myCurrentKey    = list(dictSequence.keys())[ii + 1]\n",
    "        myCount[ii], mySOIPositions[ii] = Groundwork.SOIPositions(dictSequence[\"mySequence\"], dictSequence[myCurrentKey])\n",
    "    myText.delete\n",
    "    myTextnew= Text(tab1, height = 2, width = 35, background = myBackgroundColor, highlightthickness = 0,\n",
    "                    borderwidth = 0, font = ('Courier New', 12, 'bold'))\n",
    "    myTextnew = Groundwork.ColorTheSeqMergeGUI(myTextnew, dictSequence[\"mySequence\"], mySOIPositions, myColorsTextBox,\n",
    "                                               myDefaultColorTextBox, myColorWarningTextBox, myBackgroundColor, tab1,\n",
    "                                               myColumnCount)\n",
    "    myTextnew.grid(row = myColumnCount, column = 3, rowspan = 1, columnspan = 5, sticky = tk.W + tk.E)\n",
    "\n",
    "def LoadDataset():\n",
    "    restoreExampleDataset()\n",
    "    time.sleep(0.1)\n",
    "    %run \"./Part01Data/02_ExampleDataset.py\"\n",
    "    for ii in range(0, len(dictSequence)):\n",
    "        currentKey    = list(dictSequence.keys())[ii]\n",
    "        currentValue  = list(dictSequence.values())[ii]\n",
    "        myInput[ii].delete(0, END)\n",
    "        myInput[ii].insert(0, currentValue)\n",
    "\n",
    "def restoreExampleDataset():\n",
    "    shutil.copy(\"./Part01Data/02_ExampleDataset.py\", \"./Part01Data/02_Sequence.py\")\n",
    "\n",
    "\n",
    "# initialize GUI\n",
    "root = tk.Tk()\n",
    "\n",
    "# set graphical appearance\n",
    "root.configure(background = myBackgroundColor)\n",
    "Groundwork.DarkTitleBar(root)\n",
    "root.title('Tabbed GUI')\n",
    "root.tk.call(\"source\", \"./_themes/Sun-Valley-ttk-theme-main/sv.tcl\")\n",
    "root.tk.call(\"set_theme\", \"dark\")\n",
    "root.iconbitmap(\"./icons/logoBCNicon.ico\")\n",
    "ttk.Style().configure(\"RB.TButton\", foreground = myForegroundColor)\n",
    "\n",
    "# create a tab control that manages multiple tabs\n",
    "tabsystem = ttk.Notebook(root)\n",
    "\n",
    "# create new tabs using frame widget\n",
    "tab1 = Frame(tabsystem)\n",
    "tab2 = Frame(tabsystem)\n",
    "\n",
    "# initialize some blank labels used for GUI design\n",
    "for ii in range(0, len(myLabelBlank)):\n",
    "    myLabelBlank[ii]   = ttk.Label(tab1, text = \"   \", background = myBackgroundColor)\n",
    "\n",
    "# set style\n",
    "s = ttk.Style(root)\n",
    "s.configure(\"TFrame\",        background = myBackgroundColor, foreground = myBackgroundColor)\n",
    "s.configure(\"TNotebook\",     background = myBackgroundColor, foreground = myBackgroundColor)\n",
    "s.configure(\"TNotebook.Tab\", background = myBackgroundColor, foreground = \"white\")\n",
    "\n",
    "\n",
    "# load (previous) dataset\n",
    "%run \"./Part01Data/02_Sequence.py\"\n",
    "\n",
    "\n",
    "# set top label\n",
    "columnCount = 0; blankCount = 0\n",
    "myLabelBlank[blankCount].grid(row = columnCount, column = 0); blankCount  += 1\n",
    "myLabelBlank[blankCount].grid(row = columnCount, column = 2); blankCount  += 1\n",
    "myLabelBlank[blankCount].grid(row = columnCount, column = 4); blankCount  += 1\n",
    "myLabelBlank[blankCount].grid(row = columnCount, column = 6); columnCount += 1\n",
    "myLabelBlank[blankCount].grid(row = columnCount, column = 8); columnCount += 1\n",
    "\n",
    "myLabel = tk.Label(tab1, text = \"Sequence Analysis\", font = ('Arial', 14, 'bold'), bg = myBackgroundColor)\n",
    "myLabel.grid(row = columnCount, column = 3, rowspan = 1, columnspan = 5, sticky = tk.W + tk.E)\n",
    "columnCount += 1\n",
    "blankCount  += 1\n",
    "myLabelBlank[blankCount].grid(row = columnCount, column = 0)\n",
    "myValidation                    = [] * 4\n",
    "\n",
    "for ii in range(len(dictSequence)):\n",
    "    blankCount += 1\n",
    "    myLabelBlank[blankCount+ii].grid(row = columnCount, column = 2)\n",
    "    columnCount += 1\n",
    "    currentKey    = list(dictSequence.keys())[ii]\n",
    "    currentValue  = list(dictSequence.values())[ii]\n",
    "    if ii == 0:\n",
    "        myLabel     = ttk.Label(tab1, text = currentKey + \": \", anchor=\"e\", justify = \"left\",\n",
    "                                font = ('Courier New', 12, 'bold'), \n",
    "                                foreground = \"white\", background = myBackgroundColor)\n",
    "    else:\n",
    "        myLabel     = ttk.Label(tab1, text = currentKey + \": \", anchor = \"e\", justify = \"left\",\n",
    "                                font = ('Courier New', 12, 'bold'), background = myBackgroundColor,\n",
    "                                foreground = myColorsTextBox[ii - 1])\n",
    "    myLabel.grid(row = columnCount, column = 1, sticky = tk.W + tk.E)\n",
    "    myInput[ii] = ttk.Entry(tab1, width = 40, style = \"EntryStyle.TEntry\",\n",
    "                                font = ('Courier New', 12, 'bold'),\n",
    "                                foreground = myForegroundColor, background = myBackgroundColor)\n",
    "    myInput[ii].insert(\"end\", dictSequence[currentKey])\n",
    "    myInput[ii].grid(row = columnCount, column = 3, rowspan = 1, columnspan = 5)\n",
    "    blankCount += 1; columnCount += 1\n",
    "    myLabelBlank[blankCount + ii].grid(row = columnCount, column = 2)\n",
    "\n",
    "columnCount += 1; blankCount += 1\n",
    "myLabelBlank[blankCount].grid(row = columnCount, column = 0); columnCount += 1\n",
    "\n",
    "myNumberOfSOIs       = len(dictSequence) - 1\n",
    "myCount              = [0] * myNumberOfSOIs\n",
    "mySOIPositions       = [0] * myNumberOfSOIs\n",
    "mySequenceColored    = [\"\"] * myNumberOfSOIs\n",
    "mySequence           = dictSequence[\"mySequence\"]\n",
    "\n",
    "columnCount  += 1\n",
    "for ii in range(myNumberOfSOIs):\n",
    "    currentKey                    = list(dictSequence.keys())[ii+1]\n",
    "    myCount[ii], mySOIPositions[ii] = Groundwork.SOIPositions(mySequence, dictSequence[currentKey])\n",
    "    mySequenceColored[ii]           = Groundwork.ColorTheSeq(mySequence, mySOIPositions[ii], myColors[ii], myDefaultColor)\n",
    "\n",
    "mySequenceColored, mySOIPositionsTotalColored, mySOIPositionsTotal = Groundwork.ColorTheSeqMerge(mySequence, mySOIPositions, myColors,\n",
    "                                                                                          myDefaultColor, myColorWarning)\n",
    "print(\"mySOIs (total): \\t \\t\", mySequenceColored, end = '\\n')\n",
    "print(\"mySOIPositions (total) : \\t\", mySOIPositionsTotalColored, end = '\\n')\n",
    "myLabel = ttk.Label(text = mySequence, font=('Arial', 14, 'bold'))\n",
    "\n",
    "\n",
    "# write colored result in textfield of GUI\n",
    "myText = Text(tab1, height = 3, width = 35, background = myBackgroundColor, highlightthickness = 0,\n",
    "              borderwidth = 0, font = ('Courier New', 12, 'bold'))\n",
    "AnalyseSeq(myText, myNumberOfSOIs, mySequence, mySOIPositions, myColorsTextBox,\n",
    "           myDefaultColorTextBox, myColorWarningTextBox, myBackgroundColor, tab1, columnCount)\n",
    "myColumnCountAnalysisStatic = columnCount; columnCount += 1\n",
    "\n",
    "\n",
    "# imprint user manual\n",
    "columnCount  += 1; blankCount += 1\n",
    "myLabelBlank[blankCount].grid(row = columnCount, column = 0); columnCount += 1\n",
    "myLabelLegend  = ttk.Label(tab1, text = \"Sequences of Interest (SOIs): Green, blue and yellow\", anchor = \"w\", justify = \"left\",\n",
    "                             font = ('Courier New', 10, 'bold'), background = myBackgroundColor, foreground = \"white\")\n",
    "myLabelLegend.grid(row = columnCount, column = 3, rowspan = 1, columnspan = 5, sticky = tk.W + tk.E); columnCount += 1\n",
    "myLabelLegend  = ttk.Label(tab1, text = \"Overlaps: red\", anchor = \"w\", justify = \"left\", font = ('Courier New', 10, 'bold'),\n",
    "                             background = myBackgroundColor, foreground = \"white\")\n",
    "myLabelLegend.grid(row = columnCount, column = 3, rowspan = 1, columnspan = 5, sticky = tk.W + tk.E)\n",
    "columnCount  += 1; columnCount += 1; blankCount += 1\n",
    "myLabelBlank[blankCount].grid(row = columnCount, column = 0); columnCount += 1\n",
    "myLabelMan     = ttk.Label(tab1,text = \"Manual: \", anchor = \"w\", justify = \"left\", font = ('Courier New', 10, 'bold'),\n",
    "                           background = myBackgroundColor, foreground = \"white\")\n",
    "myLabelMan.grid(row = columnCount, column = 3, rowspan = 1, columnspan = 5, sticky = tk.W + tk.E); columnCount += 1\n",
    "myLabelMan     = ttk.Label(tab1,text = \"1. Modify Sequences\", anchor = \"w\", justify=\"left\", font = ('Courier New', 10, 'bold'),\n",
    "                           background = myBackgroundColor, foreground = \"white\")\n",
    "myLabelMan.grid(row = columnCount, column = 3, rowspan = 1, columnspan = 5, sticky = tk.W + tk.E); columnCount += 1\n",
    "myLabelMan     = ttk.Label(tab1,text = \"2. Press \\\"Save\\\"\", anchor = \"w\", justify = \"left\", font = ('Courier New', 10, 'bold'),\n",
    "                           background = myBackgroundColor, foreground = \"white\")\n",
    "myLabelMan.grid(row = columnCount, column = 3, rowspan = 1, columnspan = 5, sticky = tk.W + tk.E); columnCount += 1\n",
    "myLabelMan     = ttk.Label(tab1,text = \"3. Press \\\"Analyze\\\"\", anchor = \"w\", justify = \"left\", font = ('Courier New', 10, 'bold'),\n",
    "                           background = myBackgroundColor, foreground = \"white\")\n",
    "myLabelMan.grid(row = columnCount, column = 3, rowspan = 1, columnspan = 5, sticky = tk.W + tk.E)\n",
    "columnCount  += 1; blankCount += 1\n",
    "myLabelBlank[blankCount].grid(row = columnCount, column = 0); columnCount += 1\n",
    "\n",
    "\n",
    "# Set control buttons and define actions\n",
    "myButtonAnalysis = ttk.Button(tab1,text = \"Analyze\", style = \"RB.TButton\", command = lambda: AnalyseSeq(myText, myNumberOfSOIs,\n",
    "                                                                                                        mySequence, mySOIPositions,\n",
    "                                                                                                        myColorsTextBox, myDefaultColorTextBox,\n",
    "                                                                                                        myColorWarningTextBox, myBackgroundColor,\n",
    "                                                                                                        tab1, myColumnCountAnalysisStatic))\n",
    "myButtonAnalysis.grid(row = columnCount, column = 3, rowspan = 1, columnspan = 3, sticky = tk.W + tk.E)\n",
    "myButtonSave  = ttk.Button(tab1, text = \"Save\", style = \"RB.TButton\", command = lambda: SimpleTabbedGUI.SaveSequence(dictSequence, myInput))\n",
    "myButtonSave.grid(row = columnCount, column = 7, sticky = tk.W + tk.E)\n",
    "\n",
    "columnCount += 1; blankCount += 1\n",
    "myLabelBlank[blankCount].grid(row = columnCount, column = 0); columnCount += 1\n",
    "myButton      = ttk.Button(tab1, text = \"Restore\", style = \"RB.TButton\", command = lambda: LoadDataset())\n",
    "myButton.grid(row = columnCount, column = 3, rowspan = 1, columnspan = 3, sticky = tk.W + tk.E)\n",
    "myButtonClose = ttk.Button(tab1, text = \"Close\", style = \"RB.TButton\", command = root.destroy)\n",
    "myButtonClose.grid(row = columnCount, column = 7, sticky = tk.W + tk.E)\n",
    "\n",
    "columnCount += 1; blankCount += 1\n",
    "myLabelBlank[blankCount].grid(row = columnCount, column = 0); columnCount += 1\n",
    "myButtonClear = ttk.Button(tab1, text = \"Clear\", style = \"RB.TButton\", command = lambda: SimpleTabbedGUI.ClearTextandFields(dictSequence, myInput))\n",
    "myButtonClear.grid(row = columnCount, column = 3, rowspan = 1, columnspan = 3, sticky = tk.W + tk.E)\n",
    "columnCount += 1; blankCount += 1\n",
    "myLabelBlank[blankCount].grid(row = columnCount, column = 0); columnCount += 1\n",
    "\n",
    "\n",
    "# set logo bio-century.net\n",
    "myImage        = Image.open('./icons/logoBCN.png')\n",
    "imageResized = myImage.resize((288, 47))\n",
    "myIcon=ImageTk.PhotoImage(imageResized)\n",
    "columnCount  += 1; blankCount += 1\n",
    "myLabelBlank[blankCount].grid(row = columnCount, column = 0)\n",
    "myLogoLabel    = ttk.Label(tab1, image = myIcon, padding = 5, background = myBackgroundColor)\n",
    "myLogoLabel.grid(row = columnCount, column = 3, rowspan = 1, columnspan = 5)\n",
    "\n",
    "columnCount += 1; blankCount += 1\n",
    "myLabelBlank[blankCount].grid(row = columnCount, column = 0); columnCount += 1\n",
    "myButtonNext   = ttk.Button(tab1, text=\"Next Tab\", command = lambda: tabsystem.select(tab2))\n",
    "myButtonNext.grid(row=columnCount, column=7, sticky = tk.W + tk.E); columnCount += 1\n",
    "columnCount  += 1; blankCount += 1\n",
    "myLabelBlank[blankCount].grid(row = columnCount, column = 0); columnCount += 1\n",
    "\n",
    "\n",
    "# set \"Next Idea\" tab\n",
    "label2nd = Label(tab2, text = \"Here is some space for a new idea!\", background = myBackgroundColor)\n",
    "label2nd.grid(column = 1, row = 1, padx = 170,pady = 250)\n",
    "tabsystem.add(tab1, text = 'Sequence Analysis')\n",
    "tabsystem.add(tab2, text = 'Next Idea')\n",
    "tabsystem.grid()\n",
    "\n",
    "\n",
    "display(ImageIPython(filename = './figures/TabbedGUI.png'))\n",
    "root.mainloop()"
   ]
  },
  {
   "attachments": {},
   "cell_type": "markdown",
   "id": "6fe69ec6",
   "metadata": {},
   "source": [
    "# 3. <a name=\"WorkingWithKmers\">k-mer-Analysis of a Sequence</a>"
   ]
  },
  {
   "attachments": {},
   "cell_type": "markdown",
   "id": "b932b7d7",
   "metadata": {},
   "source": [
    "This section is about the analysis of a target sequence in view of it's k-mer subcomponents. It is a direct preparation to put together small DNA-fragments with overlap in order to get the full picture, as it is required for NGS-data exploration of very large DNA sequences."
   ]
  },
  {
   "attachments": {},
   "cell_type": "markdown",
   "id": "42750b92",
   "metadata": {},
   "source": [
    "100. <a name=\"htmlExportOfCode\">.html-Export of Code</a>"
   ]
  },
  {
   "cell_type": "code",
   "execution_count": 6,
   "id": "2b275099",
   "metadata": {},
   "outputs": [
    {
     "data": {
      "text/plain": [
       "0"
      ]
     },
     "execution_count": 6,
     "metadata": {},
     "output_type": "execute_result"
    }
   ],
   "source": [
    "# export code to html\n",
    "import os\n",
    "os.system(\"jupyter nbconvert SequenceAnalysisPart01.ipynb --to html\")"
   ]
  }
 ],
 "metadata": {
  "hide_input": false,
  "kernelspec": {
   "display_name": "Python 3 (ipykernel)",
   "language": "python",
   "name": "python3"
  },
  "language_info": {
   "codemirror_mode": {
    "name": "ipython",
    "version": 3
   },
   "file_extension": ".py",
   "mimetype": "text/x-python",
   "name": "python",
   "nbconvert_exporter": "python",
   "pygments_lexer": "ipython3",
   "version": "3.11.2"
  },
  "latex_envs": {
   "LaTeX_envs_menu_present": true,
   "autoclose": false,
   "autocomplete": true,
   "bibliofile": "biblio.bib",
   "cite_by": "apalike",
   "current_citInitial": 1,
   "eqLabelWithNumbers": true,
   "eqNumInitial": 1,
   "hotkeys": {
    "equation": "Ctrl-E",
    "itemize": "Ctrl-I"
   },
   "labels_anchors": false,
   "latex_user_defs": false,
   "report_style_numbering": false,
   "user_envs_cfg": false
  },
  "nbTranslate": {
   "displayLangs": [
    "*"
   ],
   "hotkey": "alt-t",
   "langInMainMenu": true,
   "sourceLang": "en",
   "targetLang": "fr",
   "useGoogleTranslate": true
  },
  "toc": {
   "base_numbering": 1,
   "nav_menu": {},
   "number_sections": true,
   "sideBar": true,
   "skip_h1_title": false,
   "title_cell": "Table of Contents",
   "title_sidebar": "Contents",
   "toc_cell": true,
   "toc_position": {},
   "toc_section_display": true,
   "toc_window_display": true
  }
 },
 "nbformat": 4,
 "nbformat_minor": 5
}
